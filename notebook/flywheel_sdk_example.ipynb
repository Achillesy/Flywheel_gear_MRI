{
 "cells": [
  {
   "cell_type": "code",
   "execution_count": 23,
   "id": "b6104c83-1abe-4c7e-ae3d-b7e1a69753e9",
   "metadata": {},
   "outputs": [],
   "source": [
    "import flywheel\n",
    "import flywheel_gear_toolkit as gt\n",
    "from pprint import pprint\n"
   ]
  },
  {
   "cell_type": "code",
   "execution_count": 24,
   "id": "d7352f2a-f44f-4385-bcc8-6cf2bf273886",
   "metadata": {},
   "outputs": [],
   "source": [
    "fw = flywheel.Client()\n"
   ]
  },
  {
   "cell_type": "code",
   "execution_count": 25,
   "id": "28b0ff07-110e-4a85-a626-85bb3ed1063c",
   "metadata": {},
   "outputs": [
    {
     "name": "stdout",
     "output_type": "stream",
     "text": [
      "Firstname: Xuchu \n",
      "Lastname: Liu \n",
      "Email: Xuchu_Liu@rush.edu\n"
     ]
    }
   ],
   "source": [
    "user_info = fw.get_current_user()\n",
    "print(\n",
    "    f\"Firstname: {user_info.firstname} \\n\"\n",
    "    f\"Lastname: {user_info.lastname} \\n\"\n",
    "    f\"Email: {user_info.email}\"\n",
    ")\n",
    "\n"
   ]
  },
  {
   "cell_type": "code",
   "execution_count": 26,
   "id": "65b1d1c0",
   "metadata": {},
   "outputs": [],
   "source": [
    "# import os\n",
    "# import pandas as pd\n",
    "\n",
    "# asher_20210301_path = \"/mnt/Storage/Xuchu_Liu/Workspace/DataSet/FetalData/20210301_asher_normal\"\n",
    "# asher_20210301_df = pd.read_csv(os.path.join(asher_20210301_path, \"Accession number lookup.csv\"), sep=',', header=None, names=['idx', 'acc', 'pname', 'uuid'])\n",
    "# for index, data in asher_20210301_df.iterrows():\n",
    "#     full_path = os.path.join(asher_20210301_path, \"exam_%06d\" % (data.idx))\n",
    "#     full_cmd = f\"fw ingest dicom -d \\\"{full_path}\\\" fetal \\\"Matlab GUIs\\\" --de-identify --subject {data.pname} --session {data.acc} -y\"\n",
    "#     print(full_cmd)\n",
    "#     !$full_cmd\n",
    "\n",
    "# asher_20210819_path = \"/mnt/Storage/Xuchu_Liu/Workspace/DataSet/FetalData/20210819_asher_normal\"\n",
    "# asher_20210819_df = pd.read_csv(os.path.join(asher_20210819_path, \"Original acc vs new acc.csv\"), sep=',', header=None, names=['idx', 'acc', 'pname'])\n",
    "# for index, data in asher_20210819_df.iterrows():\n",
    "#     full_path = os.path.join(asher_20210819_path, \"exam_%06d\" % (data.idx))\n",
    "#     full_cmd = f\"fw ingest dicom -d \\\"{full_path}\\\" fetal \\\"Matlab GUIs\\\" --de-identify --subject {data.pname} --session {data.acc} -y\"\n",
    "#     # print(full_cmd)\n",
    "#     !$full_cmd\n"
   ]
  },
  {
   "cell_type": "code",
   "execution_count": 27,
   "id": "b496d965-016b-47e2-966f-dcfa411fb490",
   "metadata": {},
   "outputs": [],
   "source": [
    "# project_sessions = fw.sessions()\n",
    "# for session in project_sessions:\n",
    "#     print(session.label)\n"
   ]
  },
  {
   "cell_type": "code",
   "execution_count": 28,
   "id": "7ea1190d-03e8-4848-846b-0200997bbccc",
   "metadata": {},
   "outputs": [
    {
     "name": "stdout",
     "output_type": "stream",
     "text": [
      "621512d7b5c1475bf2a3f7d1\n"
     ]
    }
   ],
   "source": [
    "my_session_label = \"2579537\"\n",
    "my_session_id = fw.sessions.find(f\"label=\\\"{my_session_label}\\\"\")[0].id\n",
    "print(my_session_id)\n"
   ]
  },
  {
   "cell_type": "code",
   "execution_count": 29,
   "id": "1a4940d5-0c04-4cb8-9ea8-4887d428bb3f",
   "metadata": {},
   "outputs": [
    {
     "name": "stdout",
     "output_type": "stream",
     "text": [
      "dict_keys(['operator', 'label', 'info', 'project', 'uid', 'timestamp', 'timezone', 'subject', 'age', 'weight', '_id', 'info_exists', 'parents', 'created', 'modified', 'revision', 'permissions', 'group', 'project_has_template', 'satisfies_template', 'files', 'notes', 'tags', 'analyses'])\n",
      "None\n"
     ]
    }
   ],
   "source": [
    "my_session_id = '621512d7b5c1475bf2a3f7d1'\n",
    "my_session = fw.get_session(my_session_id)\n",
    "print(my_session.keys())\n",
    "print(my_session.age)\n"
   ]
  },
  {
   "cell_type": "code",
   "execution_count": 30,
   "id": "d647732c-fd88-41fa-9dac-ae2bed2388cb",
   "metadata": {},
   "outputs": [
    {
     "name": "stdout",
     "output_type": "stream",
     "text": [
      "fetal\n"
     ]
    }
   ],
   "source": [
    "my_group = my_session.parents.group\n",
    "print(my_group)\n"
   ]
  },
  {
   "cell_type": "code",
   "execution_count": 31,
   "id": "5b40e981",
   "metadata": {},
   "outputs": [],
   "source": [
    "my_metadata = my_session.info\n",
    "if \"ohifViewer\" not in my_metadata:\n",
    "    my_metadata[\"ohifViewer\"] = {}\n",
    "ohif_metadata = my_metadata[\"ohifViewer\"]\n",
    "if \"measurements\" not in ohif_metadata:\n",
    "    ohif_metadata[\"measurements\"] = {}\n",
    "measure_metadata = ohif_metadata[\"measurements\"]\n",
    "if \"Length\" not in measure_metadata:\n",
    "    measure_metadata[\"Length\"] = []\n",
    "length_metadata = measure_metadata[\"Length\"]\n",
    "\n"
   ]
  },
  {
   "cell_type": "code",
   "execution_count": 32,
   "id": "956a0b10-41cf-4636-8bbf-2345f5eb084e",
   "metadata": {},
   "outputs": [
    {
     "name": "stdout",
     "output_type": "stream",
     "text": [
      "[]\n"
     ]
    }
   ],
   "source": [
    "pprint(ohif_metadata[\"measurements\"][\"Length\"])"
   ]
  },
  {
   "cell_type": "code",
   "execution_count": 33,
   "id": "e41f80ff-41b0-420d-8ce2-8be5f6b0f66c",
   "metadata": {},
   "outputs": [],
   "source": [
    "Length_Template2 = {\n",
    "    \"SOPInstanceUID\": \"1.3.6.1.4.1.9590.100.1.2.390791004711043483141411902812130522701\",\n",
    "    \"SeriesInstanceUID\": \"1.3.6.1.4.1.9590.100.1.2.9637877712912484919030652463070943910\",\n",
    "    \"StudyInstanceUID\": \"1.3.6.1.4.1.9590.100.1.2.12974746613731427721459401343723795747\",\n",
    "    \"_id\": \"ee6a6643-51fa-4675-0026-7d09e7dcf873\",\n",
    "    \"_measurementServiceId\": \"1702e07d-6f7c-ecd3-9be5-f53ef32c9f5d\",\n",
    "    \"active\": True,\n",
    "    \"color\": \"rgba(244,238,52,0.2)\",\n",
    "    \"description\": \"manually\",\n",
    "    \"flywheelOrigin\": {\"id\": \"Xuchu_Liu@rush.edu\", \"type\": \"user\"},\n",
    "    \"frameIndex\": 0,\n",
    "    \"handles\": {\n",
    "        \"end\": {\n",
    "            \"active\": False,\n",
    "            \"highlight\": True,\n",
    "            \"moving\": False,\n",
    "            \"x\": 253.75156838143033,\n",
    "            \"y\": 228.69761606022584,\n",
    "        },\n",
    "        \"start\": {\n",
    "            \"active\": False,\n",
    "            \"highlight\": True,\n",
    "            \"x\": 242.1882057716436,\n",
    "            \"y\": 256.3212045169385,\n",
    "        },\n",
    "        \"textBox\": {\n",
    "            \"active\": False,\n",
    "            \"allowedOutsideImage\": True,\n",
    "            \"boundingBox\": {\"height\": 25, \"left\": 595, \"top\": 343.5, \"width\": 82.15625},\n",
    "            \"drawnIndependently\": True,\n",
    "            \"hasBoundingBox\": True,\n",
    "            \"hasMoved\": False,\n",
    "            \"movesIndependently\": False,\n",
    "            \"x\": 253.75156838143033,\n",
    "            \"y\": 228.69761606022584,\n",
    "        },\n",
    "    },\n",
    "    \"imagePath\": \"1.3.6.1.4.1.9590.100.1.2.12974746613731427721459401343723795747$$$1.3.6.1.4.1.9590.100.1.2.9637877712912484919030652463070943910$$$1.3.6.1.4.1.9590.100.1.2.390791004711043483141411902812130522701$$$0\",\n",
    "    \"invalidated\": False,\n",
    "    \"length\": 11.697728502691763,\n",
    "    \"lesionNamingNumber\": 2,\n",
    "    \"location\": \"Brain\",\n",
    "    \"measurementNumber\": 2,\n",
    "    \"sliceNumber\": 9,\n",
    "    \"timepointId\": \"TimepointId\",\n",
    "    \"toolType\": \"Length\",\n",
    "    \"userId\": None,\n",
    "    \"uuid\": \"303c1a73-05f1-4098-ab23-409cc3ab2de8\",\n",
    "    \"viewport\": {\n",
    "        \"displayedArea\": {\n",
    "            \"brhc\": {\"x\": 512, \"y\": 512},\n",
    "            \"columnPixelSpacing\": 0.390625,\n",
    "            \"presentationSizeMode\": \"NONE\",\n",
    "            \"rowPixelSpacing\": 0.390625,\n",
    "            \"tlhc\": {\"x\": 1, \"y\": 1},\n",
    "        },\n",
    "        \"hflip\": False,\n",
    "        \"invert\": False,\n",
    "        \"labelmap\": False,\n",
    "        \"pixelReplication\": False,\n",
    "        \"rotation\": 0,\n",
    "        \"scale\": 1.556640625,\n",
    "        \"translation\": {\"x\": 0, \"y\": 0},\n",
    "        \"vflip\": False,\n",
    "        \"voi\": {\"windowCenter\": 471, \"windowWidth\": 936},\n",
    "    },\n",
    "    \"visible\": True,\n",
    "}"
   ]
  },
  {
   "cell_type": "code",
   "execution_count": 34,
   "id": "67f8fcf3-88f4-4f56-88e7-90ce4426fcf3",
   "metadata": {},
   "outputs": [],
   "source": [
    "Length_Template = {\n",
    "    \"active\": False,\n",
    "    \"color\": \"rgba(255,255,255,0.2)\",\n",
    "    \"description\": \"description\",\n",
    "    \"flywheelOrigin\": {\"id\": \"userid\", \"type\": \"user\"},\n",
    "    \"frameIndex\": 0,\n",
    "    \"handles\": {\n",
    "        \"end\": {\"active\": False, \"highlight\": True, \"moving\": False, \"x\": 0, \"y\": 0,},\n",
    "        \"start\": {\"active\": False, \"highlight\": True, \"x\": 0, \"y\": 0,},\n",
    "        \"textBox\": {\n",
    "            \"active\": False,\n",
    "            \"allowedOutsideImage\": True,\n",
    "            \"drawnIndependently\": True,\n",
    "            \"hasBoundingBox\": False,\n",
    "            \"hasMoved\": False,\n",
    "            \"movesIndependently\": False,\n",
    "            \"x\": 0,\n",
    "            \"y\": 0,\n",
    "        },\n",
    "    },\n",
    "    \"imagePath\": \"1.3.6\",\n",
    "    \"invalidated\": False,\n",
    "    \"length\": 0,\n",
    "    \"lesionNamingNumber\": 1,\n",
    "    \"location\": \"Brain\",\n",
    "    \"measurementNumber\": 1,\n",
    "    \"sliceNumber\": 0,\n",
    "    \"SeriesInstanceUID\": \"1.3.6\",\n",
    "    \"SOPInstanceUID\": \"1.3.6\",\n",
    "    \"StudyInstanceUID\": \"1.3.6\",\n",
    "    \"toolType\": \"Length\",\n",
    "    \"visible\": True,\n",
    "}"
   ]
  },
  {
   "cell_type": "code",
   "execution_count": 47,
   "id": "7aa4a054-1e92-4f98-85de-7dbc59695a73",
   "metadata": {},
   "outputs": [
    {
     "data": {
      "text/plain": [
       "60"
      ]
     },
     "execution_count": 47,
     "metadata": {},
     "output_type": "execute_result"
    }
   ],
   "source": [
    "abnormalColor = (60, 60, 250)\n",
    "abnormalColor[0]"
   ]
  },
  {
   "cell_type": "markdown",
   "id": "1ddb8a6f",
   "metadata": {},
   "source": [
    "### def  addPons(self, file_id):"
   ]
  },
  {
   "cell_type": "code",
   "execution_count": 35,
   "id": "aada7ad3",
   "metadata": {},
   "outputs": [],
   "source": [
    "Pons_Length = Length_Template.copy()\n",
    "Pons_Length[\"description\"] = \"A-P Diameter of Pons\"\n"
   ]
  },
  {
   "cell_type": "code",
   "execution_count": 36,
   "id": "81f77390-2b4a-4ec0-b78d-dfcdc203cc52",
   "metadata": {},
   "outputs": [],
   "source": [
    "num_Length = len(ohif_metadata[\"measurements\"][\"Length\"])\n",
    "Pons_Length[\"handles\"][\"end\"][\"x\"] = 244\n",
    "Pons_Length[\"handles\"][\"end\"][\"y\"] = 257\n",
    "Pons_Length[\"handles\"][\"start\"][\"x\"] = 258\n",
    "Pons_Length[\"handles\"][\"start\"][\"y\"] = 228\n",
    "Pons_Length[\"handles\"][\"textBox\"][\"x\"] = 258\n",
    "Pons_Length[\"handles\"][\"textBox\"][\"y\"] = 228\n",
    "Pons_Length[\"length\"]=12.58\n",
    "Pons_Length[\"lesionNamingNumber\"] = num_Length + 1\n",
    "Pons_Length[\"location\"]=\"Brain\"\n",
    "Pons_Length[\"measurementNumber\"] = num_Length + 1\n",
    "Pons_Length[\"sliceNumber\"] = 9 # InstanceNumber\n",
    "Pons_Length[\"toolType\"]=\"Length\""
   ]
  },
  {
   "cell_type": "code",
   "execution_count": 37,
   "id": "d57da16a",
   "metadata": {},
   "outputs": [],
   "source": [
    "user = fw.get_current_user()\n",
    "Pons_Length[\"flywheelOrigin\"][\"id\"]  = user.id"
   ]
  },
  {
   "cell_type": "code",
   "execution_count": 38,
   "id": "b70a49c7",
   "metadata": {},
   "outputs": [],
   "source": [
    "test_file = fw.get_file('621512dcb5c1475bf2a3f7ff')\n",
    "\n",
    "Pons_Length[\"SeriesInstanceUID\"] = test_file[\"info\"][\"SeriesInstanceUID\"]\n",
    "Pons_Length[\"SOPInstanceUID\"] = test_file[\"info\"][\"SOPInstanceUID\"]\n",
    "Pons_Length[\"StudyInstanceUID\"] = test_file[\"info\"][\"StudyInstanceUID\"]\n"
   ]
  },
  {
   "cell_type": "code",
   "execution_count": 39,
   "id": "e4272222-4c72-4fff-aac3-d87a42f2f598",
   "metadata": {},
   "outputs": [
    {
     "name": "stdout",
     "output_type": "stream",
     "text": [
      "1.3.6.1.4.1.9590.100.1.2.12974746613731427721459401343723795747$$$1.3.6.1.4.1.9590.100.1.2.9637877712912484919030652463070943910$$$1.3.6.1.4.1.9590.100.1.2.390791004711043483141411902812130522701$$$0\n"
     ]
    }
   ],
   "source": [
    "path_delimiter = \"$$$\"\n",
    "path_suffix = \"0\"\n",
    "\n",
    "imagePath = (\n",
    "    f'{Pons_Length[\"StudyInstanceUID\"]}'\n",
    "    f'{path_delimiter}'\n",
    "    f'{Pons_Length[\"SeriesInstanceUID\"]}'\n",
    "    f'{path_delimiter}'\n",
    "    f'{Pons_Length[\"SOPInstanceUID\"]}'\n",
    "    f'{path_delimiter}'\n",
    "    f'{path_suffix}'\n",
    ")\n",
    "Pons_Length[\"imagePath\"] = imagePath\n",
    "print(imagePath)"
   ]
  },
  {
   "cell_type": "code",
   "execution_count": 40,
   "id": "187c614a",
   "metadata": {},
   "outputs": [],
   "source": [
    "Vermis_Length = {}\n",
    "Vermis_Length[\"description\"] = \"A-P Diameter of Vermis\"\n"
   ]
  },
  {
   "cell_type": "code",
   "execution_count": 41,
   "id": "ee85cc50",
   "metadata": {},
   "outputs": [],
   "source": [
    "HVermis_Length = {}\n",
    "HVermis_Length[\"description\"] = \"Height of Vermis\"\n"
   ]
  },
  {
   "cell_type": "code",
   "execution_count": 42,
   "id": "313fbd9e",
   "metadata": {},
   "outputs": [],
   "source": [
    "Fronto_Length = {}\n",
    "Fronto_Length[\"description\"] = \"Fronto-Occpitial\"\n"
   ]
  },
  {
   "cell_type": "code",
   "execution_count": 43,
   "id": "c11124a3",
   "metadata": {},
   "outputs": [],
   "source": [
    "ohif_metadata[\"measurements\"][\"Length\"].append(Pons_Length)\n",
    "# ohif_metadata['measurements']['Length'].append(Vermis_Length)\n",
    "# ohif_metadata['measurements']['Length'].append(HVermis_Length)\n",
    "# ohif_metadata['measurements']['Length'].append(Fronto_Length)\n",
    "# ohif_metadata['measurements']['Length'] = [] # delete\n"
   ]
  },
  {
   "cell_type": "markdown",
   "id": "5e0335d0",
   "metadata": {},
   "source": [
    "### def update(self):"
   ]
  },
  {
   "cell_type": "code",
   "execution_count": 44,
   "id": "e808515e-9ec9-4228-9fea-cfaf9590ef97",
   "metadata": {},
   "outputs": [],
   "source": [
    "my_session.update_info(my_metadata)\n"
   ]
  },
  {
   "cell_type": "markdown",
   "id": "62a22942",
   "metadata": {},
   "source": [
    "### import_data.py"
   ]
  },
  {
   "cell_type": "code",
   "execution_count": null,
   "id": "221d62b0",
   "metadata": {},
   "outputs": [],
   "source": [
    "# If the \"User Origin\" column is not present in the Dataframe, generate it using\n",
    "# the user ID of the person running this gear (or logged into the flywheel client)\n",
    "user = fw.get_current_user()\n",
    "user_id = user.id\n",
    "print(user_id)\n"
   ]
  },
  {
   "cell_type": "code",
   "execution_count": null,
   "id": "10b6e29b",
   "metadata": {},
   "outputs": [],
   "source": [
    "context = gt.GearToolkitContext()\n",
    "context.config_from_args([])\n",
    "destination = context.destination\n"
   ]
  },
  {
   "cell_type": "code",
   "execution_count": null,
   "id": "561bc72d",
   "metadata": {},
   "outputs": [],
   "source": [
    "destination = fw.get(my_session_id)  # destination = my_session\n",
    "group = fw.get_group(destination.parents.group)  #  group object\n",
    "project = fw.get_project(destination.parents.project)  # project object\n",
    "\n"
   ]
  },
  {
   "cell_type": "code",
   "execution_count": null,
   "id": "14972f87",
   "metadata": {},
   "outputs": [],
   "source": [
    "group_name = group.id\n",
    "print(group_name)\n",
    "project_name = project.label\n",
    "print(project_name)\n",
    "my_subject_label = \"exam_000006\"\n",
    "subject = project.subjects.find(f\"label={my_subject_label}\")\n",
    "# print(subject)\n"
   ]
  },
  {
   "cell_type": "code",
   "execution_count": null,
   "id": "9a79b73c",
   "metadata": {},
   "outputs": [],
   "source": [
    "############################################################################\n",
    "# STEP 1: Loop through subject/session combos and aggregate file matches  #\n",
    "############################################################################\n",
    "# We will first loop through and find any and all matches for each subject/session combination.\n",
    "# Group by subject/session combos, to minimize loading.\n",
    "my_file_name = \"7 - SAG BrainT2 HASTE BH.dicom.zip\"\n",
    "my_acquisitions = my_session.acquisitions()\n",
    "my_acquisition = {}\n",
    "my_file = None\n",
    "for acquisition in my_acquisitions:\n",
    "    for file in acquisition.files[:1]:\n",
    "        if file.name.find(f\"{my_file_name}\") == 0:\n",
    "            my_file = file  # flywheel.FileEntry\n",
    "            my_acquisition = acquisition\n",
    "            break\n",
    "my_acquisition_label = my_acquisition.label\n",
    "print(my_file)\n"
   ]
  },
  {
   "cell_type": "code",
   "execution_count": null,
   "id": "c8e9a901",
   "metadata": {},
   "outputs": [],
   "source": [
    "test_file = fw.get_file('61f008e991188d92013e6c57')\n",
    "print(test_file)"
   ]
  },
  {
   "cell_type": "code",
   "execution_count": null,
   "id": "4513bd48",
   "metadata": {},
   "outputs": [],
   "source": [
    "############################################################################\n",
    "# STEP 2: Loop through aggregated matches and ensure there is only one     #\n",
    "# Match per row                                                            #\n",
    "############################################################################\n",
    "\n",
    "# Now that we have assembled all the possible matches for every index in the dataframe, go through and make sure\n",
    "# There aren't duplicates.\n",
    "path = f\"{group_name}/{project_name}/{my_subject_label}/{my_session_label}/{my_acquisition_label}/{my_file_name}\"\n"
   ]
  },
  {
   "cell_type": "code",
   "execution_count": null,
   "id": "11405e1d",
   "metadata": {},
   "outputs": [],
   "source": [
    "# roi = cu.get_roi_from_row(series, match.file, ses)\n",
    "# series = df.loc[index]\n",
    "# Class Match:\n",
    "#     file: flywheel.FileEntry = None\n",
    "# parent = match.file.parent\n"
   ]
  },
  {
   "cell_type": "markdown",
   "id": "b215334f",
   "metadata": {},
   "source": [
    "### csv_utils.py"
   ]
  },
  {
   "cell_type": "code",
   "execution_count": null,
   "id": "6d5ae4c8",
   "metadata": {},
   "outputs": [],
   "source": [
    "# def get_roi_from_row(series, file, session):\n",
    "#     \"\"\"Generate the dictionaries from a pandas series to create the ROI in flywheel\n",
    "\n",
    "#     Args:\n",
    "#         series (pandas.Series): a row from a dataframe describing an ROI\n",
    "#         file (flywheel.FileEntry): a flywheel file to attach the ROI to\n",
    "#         session (flywheel.Session): the parent session of the file\n",
    "\n",
    "#     Returns:\n",
    "#         roi (ROI_Template.ROI): a custom ROI object\n",
    "\n",
    "#     \"\"\"\n",
    "# # Get the handle from the row.  The handle contains the x/y bounds of the ROI\n",
    "# handle = get_handle_from_row(series)\n",
    "# stats = get_stats_from_row(series)\n",
    "\n"
   ]
  },
  {
   "cell_type": "code",
   "execution_count": null,
   "id": "e130f4d4",
   "metadata": {},
   "outputs": [],
   "source": [
    "# def get_handle_from_row(series):\n",
    "#     \"\"\"Generate the flywheel handle from the series.\n",
    "\n",
    "#     The only truly \"required\" columns needed to create a handle from the series are:\n",
    "#     X min\n",
    "#     Y min\n",
    "#     X max\n",
    "#     Y max\n",
    "\n",
    "#     Args:\n",
    "#         series (pandas.Series): a row from a dataframe describing an ROI\n",
    "\n",
    "#     Returns:\n",
    "#         handle_dict (dict): a nested dictionary object mirroring the \"handle\" object\n",
    "#             used for the flywheel ROI metadata\n",
    "\n",
    "#     \"\"\"\n",
    "# start_dict = {\n",
    "#     \"active\": false,\n",
    "#     \"highlight\": True,\n",
    "#     \"x\": 280,\n",
    "#     \"y\": 260\n",
    "# }\n",
    "# end_dict = {\n",
    "#     \"active\": false,\n",
    "#     \"highlight\": True,\n",
    "#     \"moving\": false,\n",
    "#     \"x\": 260,\n",
    "#     \"y\": 240\n",
    "# }\n"
   ]
  },
  {
   "cell_type": "code",
   "execution_count": null,
   "id": "288b7c58-2a66-4aef-bb84-c1a1f89cf493",
   "metadata": {},
   "outputs": [],
   "source": []
  }
 ],
 "metadata": {
  "kernelspec": {
   "display_name": "Python 3",
   "language": "python",
   "name": "python3"
  },
  "language_info": {
   "codemirror_mode": {
    "name": "ipython",
    "version": 3
   },
   "file_extension": ".py",
   "mimetype": "text/x-python",
   "name": "python",
   "nbconvert_exporter": "python",
   "pygments_lexer": "ipython3",
   "version": "3.8.10"
  }
 },
 "nbformat": 4,
 "nbformat_minor": 5
}
