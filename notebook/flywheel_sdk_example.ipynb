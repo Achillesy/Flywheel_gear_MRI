{
 "cells": [
  {
   "cell_type": "code",
   "execution_count": null,
   "id": "b6104c83-1abe-4c7e-ae3d-b7e1a69753e9",
   "metadata": {},
   "outputs": [],
   "source": [
    "import flywheel\n",
    "import flywheel_gear_toolkit as gt\n",
    "from pprint import pprint"
   ]
  },
  {
   "cell_type": "code",
   "execution_count": null,
   "id": "d7352f2a-f44f-4385-bcc8-6cf2bf273886",
   "metadata": {},
   "outputs": [],
   "source": [
    "fw = flywheel.Client()"
   ]
  },
  {
   "cell_type": "code",
   "execution_count": null,
   "id": "28b0ff07-110e-4a85-a626-85bb3ed1063c",
   "metadata": {},
   "outputs": [],
   "source": [
    "user_info = fw.get_current_user()\n",
    "print(f\"Firstname: {user_info.firstname} \\n\"\n",
    "      f\"Lastname: {user_info.lastname} \\n\"\n",
    "      f\"Email: {user_info.email}\")"
   ]
  },
  {
   "cell_type": "code",
   "execution_count": null,
   "id": "b496d965-016b-47e2-966f-dcfa411fb490",
   "metadata": {},
   "outputs": [],
   "source": [
    "project_sessions = fw.sessions()\n",
    "for session in project_sessions:\n",
    "    print(session.label)"
   ]
  },
  {
   "cell_type": "code",
   "execution_count": null,
   "id": "7ea1190d-03e8-4848-846b-0200997bbccc",
   "metadata": {},
   "outputs": [],
   "source": [
    "my_session_label = 'OHIF_6'\n",
    "my_session_id = fw.sessions.find(f'label={my_session_label}')[0].id\n",
    "print(my_session_id)"
   ]
  },
  {
   "cell_type": "code",
   "execution_count": null,
   "id": "1a4940d5-0c04-4cb8-9ea8-4887d428bb3f",
   "metadata": {},
   "outputs": [],
   "source": [
    "my_session = fw.get_session(my_session_id)"
   ]
  },
  {
   "cell_type": "code",
   "execution_count": null,
   "id": "d647732c-fd88-41fa-9dac-ae2bed2388cb",
   "metadata": {},
   "outputs": [],
   "source": [
    "my_group = my_session.parents.group"
   ]
  },
  {
   "cell_type": "code",
   "execution_count": null,
   "id": "5b40e981",
   "metadata": {},
   "outputs": [],
   "source": [
    "my_metadata = my_session.info\n",
    "ohif_metadata = my_metadata['ohifViewer']"
   ]
  },
  {
   "cell_type": "code",
   "execution_count": null,
   "id": "956a0b10-41cf-4636-8bbf-2345f5eb084e",
   "metadata": {},
   "outputs": [],
   "source": [
    "pprint(ohif_metadata['measurements']['Length'])"
   ]
  },
  {
   "cell_type": "code",
   "execution_count": null,
   "id": "aada7ad3",
   "metadata": {},
   "outputs": [],
   "source": [
    "Pons_Length = {}\n",
    "Pons_Length['description'] = 'A-P Diameter of Pons'"
   ]
  },
  {
   "cell_type": "code",
   "execution_count": null,
   "id": "187c614a",
   "metadata": {},
   "outputs": [],
   "source": [
    "Vermis_Length = {}\n",
    "Vermis_Length['description'] = 'A-P Diameter of Vermis'"
   ]
  },
  {
   "cell_type": "code",
   "execution_count": null,
   "id": "ee85cc50",
   "metadata": {},
   "outputs": [],
   "source": [
    "HVermis_Length = {}\n",
    "HVermis_Length['description'] = 'Height of Vermis'"
   ]
  },
  {
   "cell_type": "code",
   "execution_count": null,
   "id": "313fbd9e",
   "metadata": {},
   "outputs": [],
   "source": [
    "Fronto_Length = {}\n",
    "Fronto_Length['description'] = 'Fronto-Occpitial'"
   ]
  },
  {
   "cell_type": "code",
   "execution_count": null,
   "id": "c11124a3",
   "metadata": {},
   "outputs": [],
   "source": [
    "ohif_metadata['measurements']['Length'].append(Pons_Length)\n",
    "ohif_metadata['measurements']['Length'].append(Vermis_Length)\n",
    "ohif_metadata['measurements']['Length'].append(HVermis_Length)\n",
    "ohif_metadata['measurements']['Length'].append(Fronto_Length)\n",
    "ohif_metadata['measurements']['Length'] = [] # delete"
   ]
  },
  {
   "cell_type": "code",
   "execution_count": null,
   "id": "e808515e-9ec9-4228-9fea-cfaf9590ef97",
   "metadata": {},
   "outputs": [],
   "source": [
    "my_session.update_info(my_metadata)"
   ]
  },
  {
   "cell_type": "code",
   "execution_count": null,
   "id": "288b7c58-2a66-4aef-bb84-c1a1f89cf493",
   "metadata": {},
   "outputs": [],
   "source": [
    "my_acquisition = my_session.acquisitions()\n",
    "for acquisition in my_acquisition:\n",
    "    for file in acquisition.files[:1]:\n",
    "        if file.type == 'dicom':\n",
    "            print(file.name)"
   ]
  },
  {
   "cell_type": "code",
   "execution_count": null,
   "id": "10b6e29b",
   "metadata": {},
   "outputs": [],
   "source": [
    "context = gt.GearToolkitContext()\n",
    "context.config_from_args([])"
   ]
  }
 ],
 "metadata": {
  "kernelspec": {
   "display_name": "Python 3",
   "language": "python",
   "name": "python3"
  },
  "language_info": {
   "codemirror_mode": {
    "name": "ipython",
    "version": 3
   },
   "file_extension": ".py",
   "mimetype": "text/x-python",
   "name": "python",
   "nbconvert_exporter": "python",
   "pygments_lexer": "ipython3",
   "version": "3.9.10"
  }
 },
 "nbformat": 4,
 "nbformat_minor": 5
}
