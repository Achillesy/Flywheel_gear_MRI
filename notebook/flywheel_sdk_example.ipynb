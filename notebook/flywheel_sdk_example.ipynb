{
 "cells": [
  {
   "cell_type": "code",
   "execution_count": 1,
   "id": "b6104c83-1abe-4c7e-ae3d-b7e1a69753e9",
   "metadata": {},
   "outputs": [],
   "source": [
    "import flywheel\n",
    "import flywheel_gear_toolkit as gt\n",
    "from pprint import pprint\n"
   ]
  },
  {
   "cell_type": "code",
   "execution_count": 2,
   "id": "d7352f2a-f44f-4385-bcc8-6cf2bf273886",
   "metadata": {},
   "outputs": [],
   "source": [
    "fw = flywheel.Client()\n"
   ]
  },
  {
   "cell_type": "code",
   "execution_count": 3,
   "id": "28b0ff07-110e-4a85-a626-85bb3ed1063c",
   "metadata": {},
   "outputs": [
    {
     "name": "stdout",
     "output_type": "stream",
     "text": [
      "Firstname: Xuchu \n",
      "Lastname: Liu \n",
      "Email: Xuchu_Liu@rush.edu\n"
     ]
    }
   ],
   "source": [
    "user_info = fw.get_current_user()\n",
    "print(\n",
    "    f\"Firstname: {user_info.firstname} \\n\"\n",
    "    f\"Lastname: {user_info.lastname} \\n\"\n",
    "    f\"Email: {user_info.email}\"\n",
    ")\n",
    "\n"
   ]
  },
  {
   "cell_type": "code",
   "execution_count": 4,
   "id": "b496d965-016b-47e2-966f-dcfa411fb490",
   "metadata": {},
   "outputs": [
    {
     "name": "stdout",
     "output_type": "stream",
     "text": [
      "2004-08-17 10_58_48\n",
      "07-03-08 11_43 AM\n",
      "07-12-04 12_34 PM\n",
      "09-18-07 9_27 AM\n",
      "09-01-05 9_18 AM\n",
      "OHIF_6\n",
      "OHIF_11\n",
      "exam_000007\n"
     ]
    }
   ],
   "source": [
    "project_sessions = fw.sessions()\n",
    "for session in project_sessions:\n",
    "    print(session.label)\n"
   ]
  },
  {
   "cell_type": "code",
   "execution_count": 24,
   "id": "7ea1190d-03e8-4848-846b-0200997bbccc",
   "metadata": {},
   "outputs": [
    {
     "name": "stdout",
     "output_type": "stream",
     "text": [
      "61f008e591188d92013e6c34\n"
     ]
    }
   ],
   "source": [
    "# my_session_label = \"2004-08-17 10_58_48\"\n",
    "my_session_label = \"OHIF_6\"\n",
    "my_session_id = fw.sessions.find(f\"label={my_session_label}\")[0].id\n",
    "print(my_session_id)\n"
   ]
  },
  {
   "cell_type": "code",
   "execution_count": 25,
   "id": "1a4940d5-0c04-4cb8-9ea8-4887d428bb3f",
   "metadata": {},
   "outputs": [
    {
     "name": "stdout",
     "output_type": "stream",
     "text": [
      "dict_keys(['operator', 'label', 'info', 'project', 'uid', 'timestamp', 'timezone', 'subject', 'age', 'weight', '_id', 'info_exists', 'parents', 'created', 'modified', 'revision', 'permissions', 'group', 'project_has_template', 'satisfies_template', 'files', 'notes', 'tags', 'analyses'])\n",
      "[]\n"
     ]
    }
   ],
   "source": [
    "my_session = fw.get_session(my_session_id)\n",
    "print(my_session.keys())\n",
    "print(my_session.files)\n"
   ]
  },
  {
   "cell_type": "code",
   "execution_count": 26,
   "id": "d647732c-fd88-41fa-9dac-ae2bed2388cb",
   "metadata": {},
   "outputs": [
    {
     "name": "stdout",
     "output_type": "stream",
     "text": [
      "fetal\n"
     ]
    }
   ],
   "source": [
    "my_group = my_session.parents.group\n",
    "print(my_group)\n"
   ]
  },
  {
   "cell_type": "code",
   "execution_count": 27,
   "id": "5b40e981",
   "metadata": {},
   "outputs": [],
   "source": [
    "my_metadata = my_session.info\n",
    "if \"ohifViewer\" not in my_metadata:\n",
    "    my_metadata[\"ohifViewer\"] = {}\n",
    "ohif_metadata = my_metadata[\"ohifViewer\"]\n",
    "if \"measurements\" not in ohif_metadata:\n",
    "    ohif_metadata[\"measurements\"] = {}\n",
    "measure_metadata = ohif_metadata[\"measurements\"]\n",
    "if \"Length\" not in measure_metadata:\n",
    "    measure_metadata[\"Length\"] = []\n",
    "length_metadata = measure_metadata[\"Length\"]\n",
    "\n"
   ]
  },
  {
   "cell_type": "code",
   "execution_count": 28,
   "id": "956a0b10-41cf-4636-8bbf-2345f5eb084e",
   "metadata": {},
   "outputs": [
    {
     "name": "stdout",
     "output_type": "stream",
     "text": [
      "[{'PatientID': '5052559a-0519-4d4b-a5c5-bedf7ee9af0f',\n",
      "  'SOPInstanceUID': '1.3.6.1.4.1.9590.100.1.2.197421330710515726636997467353007484258',\n",
      "  'SeriesInstanceUID': '1.3.6.1.4.1.9590.100.1.2.130377455213163172923829280602461082065',\n",
      "  'StudyInstanceUID': '1.3.6.1.4.1.9590.100.1.2.180543353611215162910272065452027800503',\n",
      "  'active': False,\n",
      "  'frameIndex': 0,\n",
      "  'handles': {'end': {'active': False,\n",
      "                      'highlight': True,\n",
      "                      'moving': False,\n",
      "                      'x': 259.7012048192771,\n",
      "                      'y': 238.7277108433735},\n",
      "              'start': {'active': False,\n",
      "                        'highlight': True,\n",
      "                        'x': 282.52530120481936,\n",
      "                        'y': 260.31807228915665},\n",
      "              'textBox': {'active': False,\n",
      "                          'allowedOutsideImage': True,\n",
      "                          'boundingBox': {'height': 25,\n",
      "                                          'left': 641.1891566265061,\n",
      "                                          'top': 406.44939759036146,\n",
      "                                          'width': 82.15625},\n",
      "                          'drawnIndependently': True,\n",
      "                          'hasBoundingBox': True,\n",
      "                          'hasMoved': False,\n",
      "                          'movesIndependently': False,\n",
      "                          'x': 282.52530120481936,\n",
      "                          'y': 260.31807228915665}},\n",
      "  'imagePath': '1.3.6.1.4.1.9590.100.1.2.180543353611215162910272065452027800503$$$1.3.6.1.4.1.9590.100.1.2.130377455213163172923829280602461082065$$$1.3.6.1.4.1.9590.100.1.2.197421330710515726636997467353007484258$$$0',\n",
      "  'invalidated': False,\n",
      "  'length': 12.27,\n",
      "  'lesionNamingNumber': 1,\n",
      "  'location': 'Brain',\n",
      "  'measurementNumber': 1,\n",
      "  'timepointId': 'TimepointId',\n",
      "  'toolType': 'Length',\n",
      "  'userId': '',\n",
      "  'uuid': '5e1ba20e-307e-43ab-9745-971fee54bdf8',\n",
      "  'viewport': {'displayedArea': {'brhc': {'x': 512, 'y': 512},\n",
      "                                 'columnPixelSpacing': 0.390625,\n",
      "                                 'presentationSizeMode': 'NONE',\n",
      "                                 'rowPixelSpacing': 0.390625},\n",
      "               'hflip': False,\n",
      "               'invert': False,\n",
      "               'labelmap': False,\n",
      "               'pixelReplication': False,\n",
      "               'rotation': 0,\n",
      "               'vflip': False},\n",
      "  'visible': False}]\n"
     ]
    }
   ],
   "source": [
    "pprint(ohif_metadata[\"measurements\"][\"Length\"])\n",
    "\n"
   ]
  },
  {
   "cell_type": "code",
   "execution_count": 29,
   "id": "67f8fcf3-88f4-4f56-88e7-90ce4426fcf3",
   "metadata": {},
   "outputs": [],
   "source": [
    "Length_Template = {\n",
    "    \"_id\": \"507b89a6-dcb4-e0e9-8564-723a5c6f655d\",\n",
    "    \"_measurementServiceId\": \"069d0546-d19f-c230-9843-d07d95e2f6cc\",\n",
    "    \"active\": False,\n",
    "    \"description\": \"Pons\",\n",
    "    \"flywheelOrigin\": {\"id\": \"Xuchu_Liu@rush.edu\", \"type\": \"user\"},\n",
    "    \"frameIndex\": 0,\n",
    "    \"handles\": {\n",
    "        \"end\": {\n",
    "            \"active\": False,\n",
    "            \"highlight\": True,\n",
    "            \"moving\": False,\n",
    "            \"x\": 259.7012048192771,\n",
    "            \"y\": 238.7277108433735,\n",
    "        },\n",
    "        \"start\": {\n",
    "            \"active\": False,\n",
    "            \"highlight\": True,\n",
    "            \"x\": 282.52530120481936,\n",
    "            \"y\": 260.31807228915665,\n",
    "        },\n",
    "        \"textBox\": {\n",
    "            \"active\": False,\n",
    "            \"allowedOutsideImage\": True,\n",
    "            \"boundingBox\": {\n",
    "                \"height\": 25,\n",
    "                \"left\": 796.6012048192772,\n",
    "                \"top\": 395.7722891566265,\n",
    "                \"width\": 82.15625,\n",
    "            },\n",
    "            \"drawnIndependently\": True,\n",
    "            \"hasBoundingBox\": True,\n",
    "            \"hasMoved\": False,\n",
    "            \"movesIndependently\": False,\n",
    "            \"x\": 282.52530120481936,\n",
    "            \"y\": 260.31807228915665,\n",
    "        },\n",
    "    },\n",
    "    \"imagePath\": \"1.3.6.1.4.1.9590.100.1.2.180543353611215162910272065452027800503$$$1.3.6.1.4.1.9590.100.1.2.130377455213163172923829280602461082065$$$1.3.6.1.4.1.9590.100.1.2.197421330710515726636997467353007484258$$$0\",\n",
    "    \"invalidated\": False,\n",
    "    \"length\": 12.272608750117465,\n",
    "    \"lesionNamingNumber\": 1,\n",
    "    \"location\": \"Brain\",\n",
    "    \"measurementNumber\": 1,\n",
    "    \"PatientID\": \"5052559a-0519-4d4b-a5c5-bedf7ee9af0f\",\n",
    "    \"SeriesInstanceUID\": \"1.3.6.1.4.1.9590.100.1.2.130377455213163172923829280602461082065\",\n",
    "    \"SOPInstanceUID\": \"1.3.6.1.4.1.9590.100.1.2.197421330710515726636997467353007484258\",\n",
    "    \"StudyInstanceUID\": \"1.3.6.1.4.1.9590.100.1.2.180543353611215162910272065452027800503\",\n",
    "    \"timepointId\": \"TimepointId\",\n",
    "    \"toolType\": \"Length\",\n",
    "    \"userId\": \"\",\n",
    "    \"uuid\": \"5e1ba20e-307e-43ab-9745-971fee54bdf8\",\n",
    "    \"viewport\": {\n",
    "        \"displayedArea\": {\n",
    "            \"brhc\": {\"x\": 512, \"y\": 512},\n",
    "            \"columnPixelSpacing\": 0.390625,\n",
    "            \"presentationSizeMode\": \"NONE\",\n",
    "            \"rowPixelSpacing\": 0.390625,\n",
    "            \"tlhc\": {\"x\": 1, \"y\": 1},\n",
    "        },\n",
    "        \"hflip\": False,\n",
    "        \"invert\": False,\n",
    "        \"labelmap\": False,\n",
    "        \"pixelReplication\": False,\n",
    "        \"rotation\": 0,\n",
    "        \"scale\": 1.62109375,\n",
    "        \"translation\": {\"x\": 0, \"y\": 0},\n",
    "        \"vflip\": False,\n",
    "        \"voi\": {\"windowCenter\": 426, \"windowWidth\": 888},\n",
    "    },\n",
    "    \"visible\": True,\n",
    "}\n"
   ]
  },
  {
   "cell_type": "code",
   "execution_count": 30,
   "id": "aada7ad3",
   "metadata": {},
   "outputs": [],
   "source": [
    "Pons_Length = Length_Template.copy()\n"
   ]
  },
  {
   "cell_type": "code",
   "execution_count": 31,
   "id": "187c614a",
   "metadata": {},
   "outputs": [],
   "source": [
    "Vermis_Length = {}\n",
    "Vermis_Length[\"description\"] = \"A-P Diameter of Vermis\"\n",
    "\n"
   ]
  },
  {
   "cell_type": "code",
   "execution_count": 32,
   "id": "ee85cc50",
   "metadata": {},
   "outputs": [],
   "source": [
    "HVermis_Length = {}\n",
    "HVermis_Length[\"description\"] = \"Height of Vermis\"\n",
    "\n"
   ]
  },
  {
   "cell_type": "code",
   "execution_count": 33,
   "id": "313fbd9e",
   "metadata": {},
   "outputs": [],
   "source": [
    "Fronto_Length = {}\n",
    "Fronto_Length[\"description\"] = \"Fronto-Occpitial\"\n",
    "\n"
   ]
  },
  {
   "cell_type": "code",
   "execution_count": 34,
   "id": "c11124a3",
   "metadata": {},
   "outputs": [],
   "source": [
    "ohif_metadata[\"measurements\"][\"Length\"].append(Pons_Length)\n",
    "# ohif_metadata['measurements']['Length'].append(Vermis_Length)\n",
    "# ohif_metadata['measurements']['Length'].append(HVermis_Length)\n",
    "# ohif_metadata['measurements']['Length'].append(Fronto_Length)\n",
    "# ohif_metadata['measurements']['Length'] = [] # delete\n"
   ]
  },
  {
   "cell_type": "markdown",
   "id": "62a22942",
   "metadata": {},
   "source": [
    "### import_data.py"
   ]
  },
  {
   "cell_type": "code",
   "execution_count": 35,
   "id": "221d62b0",
   "metadata": {},
   "outputs": [
    {
     "name": "stdout",
     "output_type": "stream",
     "text": [
      "Xuchu_Liu@rush.edu\n"
     ]
    }
   ],
   "source": [
    "# If the \"User Origin\" column is not present in the Dataframe, generate it using\n",
    "# the user ID of the person running this gear (or logged into the flywheel client)\n",
    "user = fw.get_current_user()\n",
    "user_id = user.id\n",
    "print(user_id)\n"
   ]
  },
  {
   "cell_type": "code",
   "execution_count": 36,
   "id": "10b6e29b",
   "metadata": {},
   "outputs": [],
   "source": [
    "context = gt.GearToolkitContext()\n",
    "context.config_from_args([])\n",
    "destination = context.destination\n"
   ]
  },
  {
   "cell_type": "code",
   "execution_count": 37,
   "id": "561bc72d",
   "metadata": {},
   "outputs": [],
   "source": [
    "destination = fw.get(my_session_id)  # destination = my_session\n",
    "group = fw.get_group(destination.parents.group)  #  group object\n",
    "project = fw.get_project(destination.parents.project)  # project object\n",
    "\n"
   ]
  },
  {
   "cell_type": "code",
   "execution_count": 38,
   "id": "14972f87",
   "metadata": {},
   "outputs": [
    {
     "name": "stdout",
     "output_type": "stream",
     "text": [
      "fetal\n",
      "Matlab GUIs\n"
     ]
    }
   ],
   "source": [
    "group_name = group.id\n",
    "print(group_name)\n",
    "project_name = project.label\n",
    "print(project_name)\n",
    "my_subject_label = \"exam_000006\"\n",
    "subject = project.subjects.find(f\"label={my_subject_label}\")\n",
    "# print(subject)\n"
   ]
  },
  {
   "cell_type": "code",
   "execution_count": 42,
   "id": "9a79b73c",
   "metadata": {},
   "outputs": [
    {
     "name": "stdout",
     "output_type": "stream",
     "text": [
      "{'classification': {'Intent': ['Structural'], 'Measurement': ['T2']},\n",
      " 'created': datetime.datetime(2022, 1, 25, 14, 27, 53, 767000, tzinfo=tzutc()),\n",
      " 'deid_log_id': None,\n",
      " 'file_id': '61f008e991188d92013e6c57',\n",
      " 'hash': None,\n",
      " 'id': 'c5902230-19b3-437b-8279-4cbe24f359eb',\n",
      " 'info': {},\n",
      " 'info_exists': True,\n",
      " 'mimetype': 'application/octet-stream',\n",
      " 'modality': 'MR',\n",
      " 'modified': datetime.datetime(2022, 1, 25, 14, 30, 41, 562000, tzinfo=tzutc()),\n",
      " 'name': '7 - SAG BrainT2 HASTE BH.dicom.zip',\n",
      " 'origin': {'id': 'Xuchu_Liu@rush.edu',\n",
      "            'method': None,\n",
      "            'name': None,\n",
      "            'type': 'user',\n",
      "            'via': None},\n",
      " 'parent_ref': {'id': '61f008e691188d92013e6c44', 'type': 'acquisition'},\n",
      " 'parents': {'acquisition': '61f008e691188d92013e6c44',\n",
      "             'analysis': None,\n",
      "             'group': 'fetal',\n",
      "             'project': '61b7a25aece9fa9a563d3d26',\n",
      "             'session': '61f008e591188d92013e6c34',\n",
      "             'subject': '61f008e591188d92013e6c33'},\n",
      " 'replaced': None,\n",
      " 'size': 5636631,\n",
      " 'tags': [],\n",
      " 'type': 'dicom',\n",
      " 'version': 1,\n",
      " 'zip_member_count': 18}\n"
     ]
    }
   ],
   "source": [
    "############################################################################\n",
    "# STEP 1: Loop through subject/session combos and aggregate file matches  #\n",
    "############################################################################\n",
    "# We will first loop through and find any and all matches for each subject/session combination.\n",
    "# Group by subject/session combos, to minimize loading.\n",
    "my_file_name = \"7 - SAG BrainT2 HASTE BH.dicom.zip\"\n",
    "my_acquisitions = my_session.acquisitions()\n",
    "my_acquisition = {}\n",
    "my_file = None\n",
    "for acquisition in my_acquisitions:\n",
    "    for file in acquisition.files[:1]:\n",
    "        if file.name.find(f\"{my_file_name}\") == 0:\n",
    "            my_file = file  # flywheel.FileEntry\n",
    "            my_acquisition = acquisition\n",
    "            break\n",
    "my_acquisition_label = my_acquisition.label\n",
    "print(my_file)\n"
   ]
  },
  {
   "cell_type": "code",
   "execution_count": 57,
   "id": "c8e9a901",
   "metadata": {},
   "outputs": [
    {
     "name": "stdout",
     "output_type": "stream",
     "text": [
      "{'classification': {'Intent': ['Structural'], 'Measurement': ['T2']},\n",
      " 'created': datetime.datetime(2022, 1, 25, 14, 27, 53, 767000, tzinfo=tzutc()),\n",
      " 'deid_log_id': None,\n",
      " 'file_id': '61f008e991188d92013e6c57',\n",
      " 'hash': None,\n",
      " 'id': 'c5902230-19b3-437b-8279-4cbe24f359eb',\n",
      " 'info': {'AccessionNumber': '000006',\n",
      "          'AcquisitionDate': '20060113',\n",
      "          'AcquisitionMatrix': [256, 0, 0, 180],\n",
      "          'AcquisitionNumber': 1,\n",
      "          'AcquisitionTime': '135651.090000',\n",
      "          'AngioFlag': 'N',\n",
      "          'BitsAllocated': 16,\n",
      "          'BitsStored': 12,\n",
      "          'BodyPartExamined': 'MRI PEDS NEURO F',\n",
      "          'Columns': 512,\n",
      "          'CompressionCode': 'NONE',\n",
      "          'ContentDate': '20060113',\n",
      "          'ContentTime': '135717.031000',\n",
      "          'DataSetSubtype': 'IMA NONE',\n",
      "          'DataSetType': 0,\n",
      "          'DateOfLastCalibration': '20060111',\n",
      "          'DeidentificationMethod': 'DICOMANON (rev R2010a) - PS 3.15-2008 '\n",
      "                                    'Table E.1-1 - nondefault',\n",
      "          'EchoNumbers': 0,\n",
      "          'EchoTime': 83,\n",
      "          'EchoTrainLength': 256,\n",
      "          'FlipAngle': 170,\n",
      "          'FrameOfReferenceUID': '1.3.6.1.4.1.9590.100.1.2.355353900612829143402561363442461934545',\n",
      "          'HighBit': 11,\n",
      "          'ImageDimensions': 2,\n",
      "          'ImageFormat': 'RECT',\n",
      "          'ImageGeometryType': 'PLANAR',\n",
      "          'ImageLocation': 32736,\n",
      "          'ImageOrientation': [0.85956016,\n",
      "                               0.28199308,\n",
      "                               0.42618802,\n",
      "                               4.510222e-08,\n",
      "                               0.83397098,\n",
      "                               -0.5518083],\n",
      "          'ImageOrientationPatient': [0.8595601620148,\n",
      "                                      0.281993082545,\n",
      "                                      0.4261880210352,\n",
      "                                      4.51022199e-08,\n",
      "                                      0.833970983197,\n",
      "                                      -0.5518082993081],\n",
      "          'ImagePosition': [-85.956021, -111.59641, 12.562028],\n",
      "          'ImagePositionPatient': [-60.708837865629,\n",
      "                                   -178.62172090526,\n",
      "                                   -35.015990361182],\n",
      "          'ImageType': ['ORIGINAL', 'PRIMARY', 'M', 'ND', 'NORM'],\n",
      "          'ImagedNucleus': '1H',\n",
      "          'ImagingFrequency': 63.689569,\n",
      "          'InPlanePhaseEncodingDirection': 'COL',\n",
      "          'InstanceNumber': 18,\n",
      "          'IssuerOfPatientID': 'SITE_DEFAULT_LOCAL',\n",
      "          'LargestImagePixelValue': '',\n",
      "          'Location': -78.799342,\n",
      "          'MRAcquisitionType': '2D',\n",
      "          'MagneticFieldStrength': 1.4939999580383,\n",
      "          'Manufacturer': 'SIEMENS',\n",
      "          'ManufacturerModelName': 'Sonata',\n",
      "          'Modality': 'MR',\n",
      "          'NumberOfAverages': 1,\n",
      "          'NumberOfPhaseEncodingSteps': 135,\n",
      "          'PatientID': '5052559a-0519-4d4b-a5c5-bedf7ee9af0f',\n",
      "          'PatientIdentityRemoved': 'YES',\n",
      "          'PatientName': 'Normal000006',\n",
      "          'PatientPosition': 'HFS',\n",
      "          'PercentPhaseFieldOfView': 100,\n",
      "          'PercentSampling': 70.170454545455,\n",
      "          'PerformedProcedureStepDescription': 'MRI PEDS NEURO^FETAL BRAIN & '\n",
      "                                               'SPINE',\n",
      "          'PerformedProcedureStepID': 'MR20060113133144',\n",
      "          'PerformedProcedureStepStartDate': '20060113',\n",
      "          'PerformedProcedureStepStartTime': '133144.546000',\n",
      "          'PhotometricInterpretation': 'MONOCHROME2',\n",
      "          'PixelBandwidth': 230,\n",
      "          'PixelRepresentation': 0,\n",
      "          'PixelSpacing': [0.390625, 0.390625],\n",
      "          'RepetitionTime': 1510,\n",
      "          'RequestedProcedureDescription': 'MRI PEDS NEURO FETAL BRAIN & SPINE',\n",
      "          'Rows': 512,\n",
      "          'SAR': 1.9389251470566,\n",
      "          'SOPClassUID': 'MR Image Storage',\n",
      "          'SOPInstanceUID': '1.3.6.1.4.1.9590.100.1.2.264882805412988550609462888121876104102',\n",
      "          'SamplesPerPixel': 1,\n",
      "          'ScanningSequence': 'SE',\n",
      "          'SequenceName': '*h2d1_180',\n",
      "          'SequenceVariant': ['SK', 'SP', 'OSP'],\n",
      "          'SeriesDate': '20060113',\n",
      "          'SeriesDescription': 'SAG BrainT2 HASTE BH',\n",
      "          'SeriesInstanceUID': '1.3.6.1.4.1.9590.100.1.2.130377455213163172923829280602461082065',\n",
      "          'SeriesNumber': 7,\n",
      "          'SeriesTime': '135714.453000',\n",
      "          'SliceLocation': -78.799341895272,\n",
      "          'SliceThickness': 5,\n",
      "          'SmallestImagePixelValue': '',\n",
      "          'SoftwareVersions': 'syngo MR 2004A 4VA25A',\n",
      "          'SpacingBetweenSlices': 5,\n",
      "          'SpecificCharacterSet': 'ISO_IR 100',\n",
      "          'StudyDate': '20060113',\n",
      "          'StudyDescription': 'MRI FETAL IMAGING',\n",
      "          'StudyInstanceUID': '1.3.6.1.4.1.9590.100.1.2.180543353611215162910272065452027800503',\n",
      "          'StudyTime': '133144.546000',\n",
      "          'TimeOfLastCalibration': '182730.000000',\n",
      "          'TransmitCoilName': 'Body',\n",
      "          'VariableFlipAngleFlag': 'N',\n",
      "          'WindowCenter': 512,\n",
      "          'WindowCenterWidthExplanation': 'Algo1',\n",
      "          'WindowWidth': 1047,\n",
      "          'dBdt': 0},\n",
      " 'info_exists': True,\n",
      " 'mimetype': 'application/octet-stream',\n",
      " 'modality': 'MR',\n",
      " 'modified': datetime.datetime(2022, 1, 25, 14, 30, 41, 562000, tzinfo=tzutc()),\n",
      " 'name': '7 - SAG BrainT2 HASTE BH.dicom.zip',\n",
      " 'origin': {'id': 'Xuchu_Liu@rush.edu',\n",
      "            'method': None,\n",
      "            'name': None,\n",
      "            'type': 'user',\n",
      "            'via': None},\n",
      " 'parent_ref': {'id': '61f008e691188d92013e6c44', 'type': 'acquisition'},\n",
      " 'parents': {'acquisition': '61f008e691188d92013e6c44',\n",
      "             'analysis': None,\n",
      "             'group': 'fetal',\n",
      "             'project': '61b7a25aece9fa9a563d3d26',\n",
      "             'session': '61f008e591188d92013e6c34',\n",
      "             'subject': '61f008e591188d92013e6c33'},\n",
      " 'replaced': None,\n",
      " 'size': 5636631,\n",
      " 'tags': [],\n",
      " 'type': 'dicom',\n",
      " 'version': 1,\n",
      " 'zip_member_count': 18}\n"
     ]
    }
   ],
   "source": [
    "test_file = fw.get_file('61f008e991188d92013e6c57')\n",
    "print(test_file)"
   ]
  },
  {
   "cell_type": "code",
   "execution_count": 43,
   "id": "4513bd48",
   "metadata": {},
   "outputs": [],
   "source": [
    "############################################################################\n",
    "# STEP 2: Loop through aggregated matches and ensure there is only one     #\n",
    "# Match per row                                                            #\n",
    "############################################################################\n",
    "\n",
    "# Now that we have assembled all the possible matches for every index in the dataframe, go through and make sure\n",
    "# There aren't duplicates.\n",
    "path = f\"{group_name}/{project_name}/{my_subject_label}/{my_session_label}/{my_acquisition_label}/{my_file_name}\"\n"
   ]
  },
  {
   "cell_type": "code",
   "execution_count": null,
   "id": "11405e1d",
   "metadata": {},
   "outputs": [],
   "source": [
    "# roi = cu.get_roi_from_row(series, match.file, ses)\n",
    "# series = df.loc[index]\n",
    "# Class Match:\n",
    "#     file: flywheel.FileEntry = None\n",
    "# parent = match.file.parent\n"
   ]
  },
  {
   "cell_type": "markdown",
   "id": "b215334f",
   "metadata": {},
   "source": [
    "### csv_utils.py"
   ]
  },
  {
   "cell_type": "code",
   "execution_count": null,
   "id": "6d5ae4c8",
   "metadata": {},
   "outputs": [],
   "source": [
    "# def get_roi_from_row(series, file, session):\n",
    "#     \"\"\"Generate the dictionaries from a pandas series to create the ROI in flywheel\n",
    "\n",
    "#     Args:\n",
    "#         series (pandas.Series): a row from a dataframe describing an ROI\n",
    "#         file (flywheel.FileEntry): a flywheel file to attach the ROI to\n",
    "#         session (flywheel.Session): the parent session of the file\n",
    "\n",
    "#     Returns:\n",
    "#         roi (ROI_Template.ROI): a custom ROI object\n",
    "\n",
    "#     \"\"\"\n",
    "# # Get the handle from the row.  The handle contains the x/y bounds of the ROI\n",
    "# handle = get_handle_from_row(series)\n",
    "# stats = get_stats_from_row(series)\n",
    "\n"
   ]
  },
  {
   "cell_type": "code",
   "execution_count": null,
   "id": "e130f4d4",
   "metadata": {},
   "outputs": [],
   "source": [
    "# def get_handle_from_row(series):\n",
    "#     \"\"\"Generate the flywheel handle from the series.\n",
    "\n",
    "#     The only truly \"required\" columns needed to create a handle from the series are:\n",
    "#     X min\n",
    "#     Y min\n",
    "#     X max\n",
    "#     Y max\n",
    "\n",
    "#     Args:\n",
    "#         series (pandas.Series): a row from a dataframe describing an ROI\n",
    "\n",
    "#     Returns:\n",
    "#         handle_dict (dict): a nested dictionary object mirroring the \"handle\" object\n",
    "#             used for the flywheel ROI metadata\n",
    "\n",
    "#     \"\"\"\n",
    "# start_dict = {\n",
    "#     \"active\": false,\n",
    "#     \"highlight\": True,\n",
    "#     \"x\": 280,\n",
    "#     \"y\": 260\n",
    "# }\n",
    "# end_dict = {\n",
    "#     \"active\": false,\n",
    "#     \"highlight\": True,\n",
    "#     \"moving\": false,\n",
    "#     \"x\": 260,\n",
    "#     \"y\": 240\n",
    "# }\n"
   ]
  },
  {
   "cell_type": "code",
   "execution_count": null,
   "id": "e808515e-9ec9-4228-9fea-cfaf9590ef97",
   "metadata": {},
   "outputs": [],
   "source": [
    "# my_session.update_info(my_metadata)\n"
   ]
  },
  {
   "cell_type": "code",
   "execution_count": null,
   "id": "288b7c58-2a66-4aef-bb84-c1a1f89cf493",
   "metadata": {},
   "outputs": [],
   "source": []
  }
 ],
 "metadata": {
  "kernelspec": {
   "display_name": "Python 3",
   "language": "python",
   "name": "python3"
  },
  "language_info": {
   "codemirror_mode": {
    "name": "ipython",
    "version": 3
   },
   "file_extension": ".py",
   "mimetype": "text/x-python",
   "name": "python",
   "nbconvert_exporter": "python",
   "pygments_lexer": "ipython3",
   "version": "3.8.10"
  }
 },
 "nbformat": 4,
 "nbformat_minor": 5
}
