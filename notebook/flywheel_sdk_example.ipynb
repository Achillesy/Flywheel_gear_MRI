{
 "cells": [
  {
   "cell_type": "code",
   "execution_count": 1,
   "id": "b6104c83-1abe-4c7e-ae3d-b7e1a69753e9",
   "metadata": {},
   "outputs": [],
   "source": [
    "import flywheel\n",
    "import flywheel_gear_toolkit as gt\n",
    "from pprint import pprint\n"
   ]
  },
  {
   "cell_type": "code",
   "execution_count": 2,
   "id": "d7352f2a-f44f-4385-bcc8-6cf2bf273886",
   "metadata": {},
   "outputs": [],
   "source": [
    "fw = flywheel.Client()\n"
   ]
  },
  {
   "cell_type": "code",
   "execution_count": 3,
   "id": "28b0ff07-110e-4a85-a626-85bb3ed1063c",
   "metadata": {},
   "outputs": [
    {
     "name": "stdout",
     "output_type": "stream",
     "text": [
      "Firstname: Xuchu \n",
      "Lastname: Liu \n",
      "Email: Xuchu_Liu@rush.edu\n"
     ]
    }
   ],
   "source": [
    "user_info = fw.get_current_user()\n",
    "print(\n",
    "    f\"Firstname: {user_info.firstname} \\n\"\n",
    "    f\"Lastname: {user_info.lastname} \\n\"\n",
    "    f\"Email: {user_info.email}\"\n",
    ")\n",
    "\n"
   ]
  },
  {
   "cell_type": "code",
   "execution_count": 4,
   "id": "b496d965-016b-47e2-966f-dcfa411fb490",
   "metadata": {},
   "outputs": [
    {
     "name": "stdout",
     "output_type": "stream",
     "text": [
      "2004-08-17 10_58_48\n",
      "07-03-08 11_43 AM\n",
      "07-12-04 12_34 PM\n",
      "09-18-07 9_27 AM\n",
      "09-01-05 9_18 AM\n",
      "OHIF_6\n",
      "OHIF_11\n",
      "exam_000007\n"
     ]
    }
   ],
   "source": [
    "project_sessions = fw.sessions()\n",
    "for session in project_sessions:\n",
    "    print(session.label)\n"
   ]
  },
  {
   "cell_type": "code",
   "execution_count": 5,
   "id": "7ea1190d-03e8-4848-846b-0200997bbccc",
   "metadata": {},
   "outputs": [
    {
     "name": "stdout",
     "output_type": "stream",
     "text": [
      "61d5a839de7b48837d3d3d94\n"
     ]
    }
   ],
   "source": [
    "my_session_label = \"2004-08-17 10_58_48\"\n",
    "my_session_id = fw.sessions.find(f\"label={my_session_label}\")[0].id\n",
    "print(my_session_id)\n"
   ]
  },
  {
   "cell_type": "code",
   "execution_count": 7,
   "id": "1a4940d5-0c04-4cb8-9ea8-4887d428bb3f",
   "metadata": {},
   "outputs": [
    {
     "name": "stdout",
     "output_type": "stream",
     "text": [
      "dict_keys(['operator', 'label', 'info', 'project', 'uid', 'timestamp', 'timezone', 'subject', 'age', 'weight', '_id', 'info_exists', 'parents', 'created', 'modified', 'revision', 'permissions', 'group', 'project_has_template', 'satisfies_template', 'files', 'notes', 'tags', 'analyses'])\n",
      "[]\n"
     ]
    }
   ],
   "source": [
    "my_session = fw.get_session(my_session_id)\n",
    "print(my_session.keys())\n",
    "print(my_session.files)\n"
   ]
  },
  {
   "cell_type": "code",
   "execution_count": 8,
   "id": "d647732c-fd88-41fa-9dac-ae2bed2388cb",
   "metadata": {},
   "outputs": [
    {
     "name": "stdout",
     "output_type": "stream",
     "text": [
      "fetal\n"
     ]
    }
   ],
   "source": [
    "my_group = my_session.parents.group\n",
    "print(my_group)\n"
   ]
  },
  {
   "cell_type": "code",
   "execution_count": 9,
   "id": "5b40e981",
   "metadata": {},
   "outputs": [],
   "source": [
    "my_metadata = my_session.info\n",
    "if \"ohifViewer\" not in my_metadata:\n",
    "    my_metadata[\"ohifViewer\"] = {}\n",
    "ohif_metadata = my_metadata[\"ohifViewer\"]\n",
    "if \"measurements\" not in ohif_metadata:\n",
    "    ohif_metadata[\"measurements\"] = {}\n",
    "measure_metadata = ohif_metadata[\"measurements\"]\n",
    "if \"Length\" not in measure_metadata:\n",
    "    measure_metadata[\"Length\"] = []\n",
    "length_metadata = measure_metadata[\"Length\"]\n",
    "\n"
   ]
  },
  {
   "cell_type": "code",
   "execution_count": 10,
   "id": "956a0b10-41cf-4636-8bbf-2345f5eb084e",
   "metadata": {},
   "outputs": [
    {
     "name": "stdout",
     "output_type": "stream",
     "text": [
      "[{'PatientID': 'dc13e4c0-b2eb-4cf6-b981-7d19d34f6a84',\n",
      "  'SOPInstanceUID': '1.3.6.1.4.1.9590.100.1.2.331014090311122473517462941741836452430',\n",
      "  'SeriesInstanceUID': '1.3.6.1.4.1.9590.100.1.2.115418603911678096403671340942587057569',\n",
      "  'StudyInstanceUID': '1.3.6.1.4.1.9590.100.1.2.12974746613731427721459401343723795747',\n",
      "  '_id': 'e3eb16ca-26ad-0e68-5ae4-30426320b2ff',\n",
      "  '_measurementServiceId': 'bb63f049-62f8-e01d-9bf7-faaaf59c9f43',\n",
      "  'active': False,\n",
      "  'color': 'rgba(244, 67, 54, 0.2)',\n",
      "  'description': 'Pons',\n",
      "  'flywheelOrigin': {'id': 'Xuchu_Liu@rush.edu', 'type': 'user'},\n",
      "  'frameIndex': 0,\n",
      "  'handles': {'end': {'active': False,\n",
      "                      'highlight': True,\n",
      "                      'moving': False,\n",
      "                      'x': 174.73525721455457,\n",
      "                      'y': 246.0426599749059},\n",
      "              'start': {'active': False,\n",
      "                        'highlight': True,\n",
      "                        'x': 185.01380175658716,\n",
      "                        'y': 224.20075282308656},\n",
      "              'textBox': {'active': False,\n",
      "                          'allowedOutsideImage': True,\n",
      "                          'boundingBox': {'height': 25,\n",
      "                                          'left': 487.99999999999994,\n",
      "                                          'top': 336.5,\n",
      "                                          'width': 73.171875},\n",
      "                          'drawnIndependently': True,\n",
      "                          'hasBoundingBox': True,\n",
      "                          'hasMoved': False,\n",
      "                          'movesIndependently': False,\n",
      "                          'x': 185.01380175658716,\n",
      "                          'y': 224.20075282308656}},\n",
      "  'imagePath': '1.3.6.1.4.1.9590.100.1.2.12974746613731427721459401343723795747$$$1.3.6.1.4.1.9590.100.1.2.115418603911678096403671340942587057569$$$1.3.6.1.4.1.9590.100.1.2.331014090311122473517462941741836452430$$$0',\n",
      "  'invalidated': False,\n",
      "  'length': 9.42950776815856,\n",
      "  'lesionNamingNumber': 1,\n",
      "  'location': 'Brain',\n",
      "  'measurementNumber': 1,\n",
      "  'sliceNumber': 7,\n",
      "  'timepointId': 'TimepointId',\n",
      "  'toolType': 'Length',\n",
      "  'userId': None,\n",
      "  'uuid': '3250fe58-2433-485c-8390-98e4e56df0f2',\n",
      "  'viewport': {'displayedArea': {'brhc': {'x': 512, 'y': 512},\n",
      "                                 'columnPixelSpacing': 0.390625,\n",
      "                                 'presentationSizeMode': 'NONE',\n",
      "                                 'rowPixelSpacing': 0.390625,\n",
      "                                 'tlhc': {'x': 1, 'y': 1}},\n",
      "               'hflip': False,\n",
      "               'invert': False,\n",
      "               'labelmap': False,\n",
      "               'pixelReplication': False,\n",
      "               'rotation': 0,\n",
      "               'scale': 1.556640625,\n",
      "               'translation': {'x': 0, 'y': 0},\n",
      "               'vflip': False,\n",
      "               'voi': {'windowCenter': 349.65234375,\n",
      "                       'windowWidth': 712.169921875}},\n",
      "  'visible': True},\n",
      " {'PatientID': 'dc13e4c0-b2eb-4cf6-b981-7d19d34f6a84',\n",
      "  'SOPInstanceUID': '1.3.6.1.4.1.9590.100.1.2.278212293810728665805413741312424874960',\n",
      "  'SeriesInstanceUID': '1.3.6.1.4.1.9590.100.1.2.115418603911678096403671340942587057569',\n",
      "  'StudyInstanceUID': '1.3.6.1.4.1.9590.100.1.2.12974746613731427721459401343723795747',\n",
      "  '_id': 'fd70387c-c119-b4da-2d43-9fc13fd0e097',\n",
      "  '_measurementServiceId': '04b89257-4ebb-890f-7fa3-14e5cff337af',\n",
      "  'active': True,\n",
      "  'color': 'rgba(63, 81, 181, 0.2)',\n",
      "  'description': 'Vermis',\n",
      "  'flywheelOrigin': {'id': 'Xuchu_Liu@rush.edu', 'type': 'user'},\n",
      "  'frameIndex': 0,\n",
      "  'handles': {'end': {'active': False,\n",
      "                      'highlight': True,\n",
      "                      'moving': False,\n",
      "                      'x': 143.89962358845668,\n",
      "                      'y': 290.3688833124216},\n",
      "              'start': {'active': False,\n",
      "                        'highlight': True,\n",
      "                        'x': 166.38393977415302,\n",
      "                        'y': 258.8908406524467},\n",
      "              'textBox': {'active': False,\n",
      "                          'allowedOutsideImage': True,\n",
      "                          'boundingBox': {'height': 25,\n",
      "                                          'left': 458.99999999999994,\n",
      "                                          'top': 390.5,\n",
      "                                          'width': 82.15625},\n",
      "                          'drawnIndependently': True,\n",
      "                          'hasBoundingBox': True,\n",
      "                          'hasMoved': False,\n",
      "                          'movesIndependently': False,\n",
      "                          'x': 166.38393977415302,\n",
      "                          'y': 258.8908406524467}},\n",
      "  'imagePath': '1.3.6.1.4.1.9590.100.1.2.12974746613731427721459401343723795747$$$1.3.6.1.4.1.9590.100.1.2.115418603911678096403671340942587057569$$$1.3.6.1.4.1.9590.100.1.2.278212293810728665805413741312424874960$$$0',\n",
      "  'invalidated': False,\n",
      "  'length': 15.110734471593066,\n",
      "  'lesionNamingNumber': 2,\n",
      "  'location': 'Brain',\n",
      "  'measurementNumber': 2,\n",
      "  'sliceNumber': 8,\n",
      "  'timepointId': 'TimepointId',\n",
      "  'toolType': 'Length',\n",
      "  'userId': None,\n",
      "  'uuid': '21d45270-d633-4048-910a-ec0c529cc0b9',\n",
      "  'viewport': {'displayedArea': {'brhc': {'x': 512, 'y': 512},\n",
      "                                 'columnPixelSpacing': 0.390625,\n",
      "                                 'presentationSizeMode': 'NONE',\n",
      "                                 'rowPixelSpacing': 0.390625,\n",
      "                                 'tlhc': {'x': 1, 'y': 1}},\n",
      "               'hflip': False,\n",
      "               'invert': False,\n",
      "               'labelmap': False,\n",
      "               'pixelReplication': False,\n",
      "               'rotation': 0,\n",
      "               'scale': 1.556640625,\n",
      "               'translation': {'x': 0, 'y': 0},\n",
      "               'vflip': False,\n",
      "               'voi': {'windowCenter': 349.65234375,\n",
      "                       'windowWidth': 712.169921875}},\n",
      "  'visible': True}]\n"
     ]
    }
   ],
   "source": [
    "pprint(ohif_metadata[\"measurements\"][\"Length\"])\n",
    "\n"
   ]
  },
  {
   "cell_type": "code",
   "execution_count": null,
   "id": "67f8fcf3-88f4-4f56-88e7-90ce4426fcf3",
   "metadata": {},
   "outputs": [],
   "source": [
    "Length_Template = {\n",
    "    \"_id\": \"507b89a6-dcb4-e0e9-8564-723a5c6f655d\",\n",
    "    \"_measurementServiceId\": \"069d0546-d19f-c230-9843-d07d95e2f6cc\",\n",
    "    \"active\": False,\n",
    "    \"description\": \"Pons\",\n",
    "    \"flywheelOrigin\": {\"id\": \"Xuchu_Liu@rush.edu\", \"type\": \"user\"},\n",
    "    \"frameIndex\": 0,\n",
    "    \"handles\": {\n",
    "        \"end\": {\n",
    "            \"active\": False,\n",
    "            \"highlight\": True,\n",
    "            \"moving\": False,\n",
    "            \"x\": 259.7012048192771,\n",
    "            \"y\": 238.7277108433735,\n",
    "        },\n",
    "        \"start\": {\n",
    "            \"active\": False,\n",
    "            \"highlight\": True,\n",
    "            \"x\": 282.52530120481936,\n",
    "            \"y\": 260.31807228915665,\n",
    "        },\n",
    "        \"textBox\": {\n",
    "            \"active\": False,\n",
    "            \"allowedOutsideImage\": True,\n",
    "            \"boundingBox\": {\n",
    "                \"height\": 25,\n",
    "                \"left\": 796.6012048192772,\n",
    "                \"top\": 395.7722891566265,\n",
    "                \"width\": 82.15625,\n",
    "            },\n",
    "            \"drawnIndependently\": True,\n",
    "            \"hasBoundingBox\": True,\n",
    "            \"hasMoved\": False,\n",
    "            \"movesIndependently\": False,\n",
    "            \"x\": 282.52530120481936,\n",
    "            \"y\": 260.31807228915665,\n",
    "        },\n",
    "    },\n",
    "    \"imagePath\": \"1.3.6.1.4.1.9590.100.1.2.180543353611215162910272065452027800503$$$1.3.6.1.4.1.9590.100.1.2.130377455213163172923829280602461082065$$$1.3.6.1.4.1.9590.100.1.2.197421330710515726636997467353007484258$$$0\",\n",
    "    \"invalidated\": False,\n",
    "    \"length\": 12.272608750117465,\n",
    "    \"lesionNamingNumber\": 1,\n",
    "    \"location\": \"Brain\",\n",
    "    \"measurementNumber\": 1,\n",
    "    \"PatientID\": \"5052559a-0519-4d4b-a5c5-bedf7ee9af0f\",\n",
    "    \"SeriesInstanceUID\": \"1.3.6.1.4.1.9590.100.1.2.130377455213163172923829280602461082065\",\n",
    "    \"SOPInstanceUID\": \"1.3.6.1.4.1.9590.100.1.2.197421330710515726636997467353007484258\",\n",
    "    \"StudyInstanceUID\": \"1.3.6.1.4.1.9590.100.1.2.180543353611215162910272065452027800503\",\n",
    "    \"timepointId\": \"TimepointId\",\n",
    "    \"toolType\": \"Length\",\n",
    "    \"userId\": \"\",\n",
    "    \"uuid\": \"5e1ba20e-307e-43ab-9745-971fee54bdf8\",\n",
    "    \"viewport\": {\n",
    "        \"displayedArea\": {\n",
    "            \"brhc\": {\"x\": 512, \"y\": 512},\n",
    "            \"columnPixelSpacing\": 0.390625,\n",
    "            \"presentationSizeMode\": \"NONE\",\n",
    "            \"rowPixelSpacing\": 0.390625,\n",
    "            \"tlhc\": {\"x\": 1, \"y\": 1},\n",
    "        },\n",
    "        \"hflip\": False,\n",
    "        \"invert\": False,\n",
    "        \"labelmap\": False,\n",
    "        \"pixelReplication\": False,\n",
    "        \"rotation\": 0,\n",
    "        \"scale\": 1.62109375,\n",
    "        \"translation\": {\"x\": 0, \"y\": 0},\n",
    "        \"vflip\": False,\n",
    "        \"voi\": {\"windowCenter\": 426, \"windowWidth\": 888},\n",
    "    },\n",
    "    \"visible\": True,\n",
    "}\n"
   ]
  },
  {
   "cell_type": "code",
   "execution_count": null,
   "id": "aada7ad3",
   "metadata": {},
   "outputs": [],
   "source": [
    "Pons_Length = Length_Template.copy()\n"
   ]
  },
  {
   "cell_type": "code",
   "execution_count": null,
   "id": "187c614a",
   "metadata": {},
   "outputs": [],
   "source": [
    "Vermis_Length = {}\n",
    "Vermis_Length[\"description\"] = \"A-P Diameter of Vermis\"\n",
    "\n"
   ]
  },
  {
   "cell_type": "code",
   "execution_count": null,
   "id": "ee85cc50",
   "metadata": {},
   "outputs": [],
   "source": [
    "HVermis_Length = {}\n",
    "HVermis_Length[\"description\"] = \"Height of Vermis\"\n",
    "\n"
   ]
  },
  {
   "cell_type": "code",
   "execution_count": null,
   "id": "313fbd9e",
   "metadata": {},
   "outputs": [],
   "source": [
    "Fronto_Length = {}\n",
    "Fronto_Length[\"description\"] = \"Fronto-Occpitial\"\n",
    "\n"
   ]
  },
  {
   "cell_type": "code",
   "execution_count": null,
   "id": "c11124a3",
   "metadata": {},
   "outputs": [],
   "source": [
    "ohif_metadata[\"measurements\"][\"Length\"].append(Pons_Length)\n",
    "# ohif_metadata['measurements']['Length'].append(Vermis_Length)\n",
    "# ohif_metadata['measurements']['Length'].append(HVermis_Length)\n",
    "# ohif_metadata['measurements']['Length'].append(Fronto_Length)\n",
    "# ohif_metadata['measurements']['Length'] = [] # delete\n"
   ]
  },
  {
   "cell_type": "markdown",
   "id": "62a22942",
   "metadata": {},
   "source": [
    "### import_data.py"
   ]
  },
  {
   "cell_type": "code",
   "execution_count": null,
   "id": "221d62b0",
   "metadata": {},
   "outputs": [],
   "source": [
    "# If the \"User Origin\" column is not present in the Dataframe, generate it using\n",
    "# the user ID of the person running this gear (or logged into the flywheel client)\n",
    "user = fw.get_current_user()\n",
    "user_id = user.id\n",
    "print(user_id)\n"
   ]
  },
  {
   "cell_type": "code",
   "execution_count": null,
   "id": "10b6e29b",
   "metadata": {},
   "outputs": [],
   "source": [
    "context = gt.GearToolkitContext()\n",
    "context.config_from_args([])\n",
    "destination = context.destination\n"
   ]
  },
  {
   "cell_type": "code",
   "execution_count": null,
   "id": "561bc72d",
   "metadata": {},
   "outputs": [],
   "source": [
    "destination = fw.get(my_session_id)  # destination = my_session\n",
    "group = fw.get_group(destination.parents.group)  #  group object\n",
    "project = fw.get_project(destination.parents.project)  # project object\n",
    "\n"
   ]
  },
  {
   "cell_type": "code",
   "execution_count": null,
   "id": "14972f87",
   "metadata": {},
   "outputs": [],
   "source": [
    "group_name = group.id\n",
    "print(group_name)\n",
    "project_name = project.label\n",
    "print(project_name)\n",
    "my_subject_label = \"exam_000006\"\n",
    "subject = project.subjects.find(f\"label={my_subject_label}\")\n",
    "# print(subject)\n"
   ]
  },
  {
   "cell_type": "code",
   "execution_count": null,
   "id": "9a79b73c",
   "metadata": {},
   "outputs": [],
   "source": [
    "############################################################################\n",
    "# STEP 1: Loop through subject/session combos and aggregate file matches  #\n",
    "############################################################################\n",
    "# We will first loop through and find any and all matches for each subject/session combination.\n",
    "# Group by subject/session combos, to minimize loading.\n",
    "my_file_name = \"7 - SAG BrainT2 HASTE BH.dicom.zip\"\n",
    "my_acquisitions = my_session.acquisitions()\n",
    "my_acquisition = {}\n",
    "my_file = None\n",
    "for acquisition in my_acquisitions:\n",
    "    for file in acquisition.files[:1]:\n",
    "        if file.name.find(f\"{my_file_name}\") == 0:\n",
    "            my_file = file  # flywheel.FileEntry\n",
    "            my_acquisition = acquisition\n",
    "            break\n",
    "my_acquisition_label = my_acquisition.label\n"
   ]
  },
  {
   "cell_type": "code",
   "execution_count": null,
   "id": "4513bd48",
   "metadata": {},
   "outputs": [],
   "source": [
    "############################################################################\n",
    "# STEP 2: Loop through aggregated matches and ensure there is only one     #\n",
    "# Match per row                                                            #\n",
    "############################################################################\n",
    "\n",
    "# Now that we have assembled all the possible matches for every index in the dataframe, go through and make sure\n",
    "# There aren't duplicates.\n",
    "path = f\"{group_name}/{project_name}/{my_subject_label}/{my_session_label}/{my_acquisition_label}/{my_file_name}\"\n"
   ]
  },
  {
   "cell_type": "code",
   "execution_count": null,
   "id": "11405e1d",
   "metadata": {},
   "outputs": [],
   "source": [
    "# roi = cu.get_roi_from_row(series, match.file, ses)\n",
    "# series = df.loc[index]\n",
    "# Class Match:\n",
    "#     file: flywheel.FileEntry = None\n",
    "# parent = match.file.parent\n"
   ]
  },
  {
   "cell_type": "markdown",
   "id": "b215334f",
   "metadata": {},
   "source": [
    "### csv_utils.py"
   ]
  },
  {
   "cell_type": "code",
   "execution_count": null,
   "id": "6d5ae4c8",
   "metadata": {},
   "outputs": [],
   "source": [
    "# def get_roi_from_row(series, file, session):\n",
    "#     \"\"\"Generate the dictionaries from a pandas series to create the ROI in flywheel\n",
    "\n",
    "#     Args:\n",
    "#         series (pandas.Series): a row from a dataframe describing an ROI\n",
    "#         file (flywheel.FileEntry): a flywheel file to attach the ROI to\n",
    "#         session (flywheel.Session): the parent session of the file\n",
    "\n",
    "#     Returns:\n",
    "#         roi (ROI_Template.ROI): a custom ROI object\n",
    "\n",
    "#     \"\"\"\n",
    "# # Get the handle from the row.  The handle contains the x/y bounds of the ROI\n",
    "# handle = get_handle_from_row(series)\n",
    "# stats = get_stats_from_row(series)\n",
    "\n"
   ]
  },
  {
   "cell_type": "code",
   "execution_count": null,
   "id": "e130f4d4",
   "metadata": {},
   "outputs": [],
   "source": [
    "# def get_handle_from_row(series):\n",
    "#     \"\"\"Generate the flywheel handle from the series.\n",
    "\n",
    "#     The only truly \"required\" columns needed to create a handle from the series are:\n",
    "#     X min\n",
    "#     Y min\n",
    "#     X max\n",
    "#     Y max\n",
    "\n",
    "#     Args:\n",
    "#         series (pandas.Series): a row from a dataframe describing an ROI\n",
    "\n",
    "#     Returns:\n",
    "#         handle_dict (dict): a nested dictionary object mirroring the \"handle\" object\n",
    "#             used for the flywheel ROI metadata\n",
    "\n",
    "#     \"\"\"\n",
    "# start_dict = {\n",
    "#     \"active\": false,\n",
    "#     \"highlight\": True,\n",
    "#     \"x\": 280,\n",
    "#     \"y\": 260\n",
    "# }\n",
    "# end_dict = {\n",
    "#     \"active\": false,\n",
    "#     \"highlight\": True,\n",
    "#     \"moving\": false,\n",
    "#     \"x\": 260,\n",
    "#     \"y\": 240\n",
    "# }\n"
   ]
  },
  {
   "cell_type": "code",
   "execution_count": null,
   "id": "e808515e-9ec9-4228-9fea-cfaf9590ef97",
   "metadata": {},
   "outputs": [],
   "source": [
    "# my_session.update_info(my_metadata)\n"
   ]
  },
  {
   "cell_type": "code",
   "execution_count": null,
   "id": "288b7c58-2a66-4aef-bb84-c1a1f89cf493",
   "metadata": {},
   "outputs": [],
   "source": []
  }
 ],
 "metadata": {
  "kernelspec": {
   "display_name": "Python 3",
   "language": "python",
   "name": "python3"
  },
  "language_info": {
   "codemirror_mode": {
    "name": "ipython",
    "version": 3
   },
   "file_extension": ".py",
   "mimetype": "text/x-python",
   "name": "python",
   "nbconvert_exporter": "python",
   "pygments_lexer": "ipython3",
   "version": "3.8.10"
  }
 },
 "nbformat": 4,
 "nbformat_minor": 5
}
