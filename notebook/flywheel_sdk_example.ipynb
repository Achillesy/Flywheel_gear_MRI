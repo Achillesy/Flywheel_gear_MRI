{
 "cells": [
  {
   "cell_type": "code",
   "execution_count": 2,
   "id": "b6104c83-1abe-4c7e-ae3d-b7e1a69753e9",
   "metadata": {},
   "outputs": [],
   "source": [
    "import flywheel\n",
    "from pprint import pprint"
   ]
  },
  {
   "cell_type": "code",
   "execution_count": 4,
   "id": "d7352f2a-f44f-4385-bcc8-6cf2bf273886",
   "metadata": {},
   "outputs": [],
   "source": [
    "fw = flywheel.Client()"
   ]
  },
  {
   "cell_type": "code",
   "execution_count": 6,
   "id": "28b0ff07-110e-4a85-a626-85bb3ed1063c",
   "metadata": {},
   "outputs": [
    {
     "name": "stdout",
     "output_type": "stream",
     "text": [
      "Firstname: Xuchu \n",
      "Lastname: Liu \n",
      "Email: Xuchu_Liu@rush.edu\n"
     ]
    }
   ],
   "source": [
    "user_info = fw.get_current_user()\n",
    "print(f\"Firstname: {user_info.firstname} \\n\"\n",
    "      f\"Lastname: {user_info.lastname} \\n\"\n",
    "      f\"Email: {user_info.email}\")"
   ]
  },
  {
   "cell_type": "code",
   "execution_count": 7,
   "id": "1a4940d5-0c04-4cb8-9ea8-4887d428bb3f",
   "metadata": {},
   "outputs": [],
   "source": [
    "exam_000006_session = fw.get_session('61f008e591188d92013e6c34')\n",
    "session_metadata = exam_000006_session.info\n",
    "ohif_metadata = session_metadata['ohifViewer']"
   ]
  },
  {
   "cell_type": "code",
   "execution_count": 5,
   "id": "0f52d891-a9bb-46f9-9371-07756b6e930d",
   "metadata": {},
   "outputs": [],
   "source": [
    "ohif_metadata['measurements']['Length'][1]['description'] = 'A-P Diameter of Vermis'"
   ]
  },
  {
   "cell_type": "code",
   "execution_count": 6,
   "id": "e808515e-9ec9-4228-9fea-cfaf9590ef97",
   "metadata": {},
   "outputs": [],
   "source": [
    "exam_000006_session.update_info(session_metadata)"
   ]
  },
  {
   "cell_type": "code",
   "execution_count": 7,
   "id": "956a0b10-41cf-4636-8bbf-2345f5eb084e",
   "metadata": {},
   "outputs": [
    {
     "name": "stdout",
     "output_type": "stream",
     "text": [
      "{'PatientID': '5052559a-0519-4d4b-a5c5-bedf7ee9af0f',\n",
      " 'SOPInstanceUID': '1.3.6.1.4.1.9590.100.1.2.197421330710515726636997467353007484258',\n",
      " 'SeriesInstanceUID': '1.3.6.1.4.1.9590.100.1.2.130377455213163172923829280602461082065',\n",
      " 'StudyInstanceUID': '1.3.6.1.4.1.9590.100.1.2.180543353611215162910272065452027800503',\n",
      " '_id': '507b89a6-dcb4-e0e9-8564-723a5c6f655d',\n",
      " '_measurementServiceId': '069d0546-d19f-c230-9843-d07d95e2f6cc',\n",
      " 'active': False,\n",
      " 'description': 'Pons',\n",
      " 'flywheelOrigin': {'id': 'Xuchu_Liu@rush.edu', 'type': 'user'},\n",
      " 'frameIndex': 0,\n",
      " 'handles': {'end': {'active': False,\n",
      "                     'highlight': True,\n",
      "                     'moving': False,\n",
      "                     'x': 259.7012048192771,\n",
      "                     'y': 238.7277108433735},\n",
      "             'start': {'active': False,\n",
      "                       'highlight': True,\n",
      "                       'x': 282.52530120481936,\n",
      "                       'y': 260.31807228915665},\n",
      "             'textBox': {'active': False,\n",
      "                         'allowedOutsideImage': True,\n",
      "                         'boundingBox': {'height': 25,\n",
      "                                         'left': 796.6012048192772,\n",
      "                                         'top': 395.7722891566265,\n",
      "                                         'width': 82.15625},\n",
      "                         'drawnIndependently': True,\n",
      "                         'hasBoundingBox': True,\n",
      "                         'hasMoved': False,\n",
      "                         'movesIndependently': False,\n",
      "                         'x': 282.52530120481936,\n",
      "                         'y': 260.31807228915665}},\n",
      " 'imagePath': '1.3.6.1.4.1.9590.100.1.2.180543353611215162910272065452027800503$$$1.3.6.1.4.1.9590.100.1.2.130377455213163172923829280602461082065$$$1.3.6.1.4.1.9590.100.1.2.197421330710515726636997467353007484258$$$0',\n",
      " 'invalidated': False,\n",
      " 'length': 12.272608750117465,\n",
      " 'lesionNamingNumber': 1,\n",
      " 'location': 'Brain',\n",
      " 'measurementNumber': 1,\n",
      " 'timepointId': 'TimepointId',\n",
      " 'toolType': 'Length',\n",
      " 'userId': '',\n",
      " 'uuid': '5e1ba20e-307e-43ab-9745-971fee54bdf8',\n",
      " 'viewport': {'displayedArea': {'brhc': {'x': 512, 'y': 512},\n",
      "                                'columnPixelSpacing': 0.390625,\n",
      "                                'presentationSizeMode': 'NONE',\n",
      "                                'rowPixelSpacing': 0.390625,\n",
      "                                'tlhc': {'x': 1, 'y': 1}},\n",
      "              'hflip': False,\n",
      "              'invert': False,\n",
      "              'labelmap': False,\n",
      "              'pixelReplication': False,\n",
      "              'rotation': 0,\n",
      "              'scale': 1.62109375,\n",
      "              'translation': {'x': 0, 'y': 0},\n",
      "              'vflip': False,\n",
      "              'voi': {'windowCenter': 426, 'windowWidth': 888}},\n",
      " 'visible': True}\n"
     ]
    }
   ],
   "source": [
    "pprint(ohif_metadata['measurements']['Length'][0])"
   ]
  },
  {
   "cell_type": "code",
   "execution_count": 8,
   "id": "b496d965-016b-47e2-966f-dcfa411fb490",
   "metadata": {},
   "outputs": [],
   "source": [
    "exam_000006_sessions = fw.sessions()"
   ]
  },
  {
   "cell_type": "code",
   "execution_count": 8,
   "id": "7ea1190d-03e8-4848-846b-0200997bbccc",
   "metadata": {},
   "outputs": [
    {
     "data": {
      "text/plain": [
       "'61f008e591188d92013e6c34'"
      ]
     },
     "execution_count": 8,
     "metadata": {},
     "output_type": "execute_result"
    }
   ],
   "source": [
    "fw.sessions.find('label=OHIF_6')[0].id"
   ]
  },
  {
   "cell_type": "code",
   "execution_count": 10,
   "id": "288b7c58-2a66-4aef-bb84-c1a1f89cf493",
   "metadata": {},
   "outputs": [],
   "source": [
    "exam_000006_session = fw.get_session('61f008e591188d92013e6c34')\n",
    "exam_000006_acquisition = exam_000006_session.acquisitions()"
   ]
  },
  {
   "cell_type": "code",
   "execution_count": 11,
   "id": "876b0d0e-f181-4719-b7c8-ab4740cb0152",
   "metadata": {},
   "outputs": [
    {
     "name": "stdout",
     "output_type": "stream",
     "text": [
      "1 - Scout Expiration BH.dicom.zip\n",
      "10 - COR Body TRUEFIS BH.dicom.zip\n",
      "11 - AXIAL BRAIN TRUEFIS BH4MM.dicom.zip\n",
      "12 - AXIAL BRAIN TRUEFIS BH4MM.dicom\n",
      "13 - AXIAL BRAIN TRUEFIS BH4MM.dicom.zip\n",
      "14 - Scout Expiration BH.dicom.zip\n",
      "15 - AX BodyTRUEFIS  BH.dicom.zip\n",
      "16 - COR BodyTRUEFIS BH.dicom.zip\n",
      "17 - COR Body TRUEFIS BH.dicom.zip\n",
      "18 - COR BodyTRUEFIS BH.dicom.zip\n",
      "2 - SAG BrainT2 HASTE BH.dicom.zip\n",
      "3 - AX BrainT2 HASTE BH.dicom.zip\n",
      "4 - COR BrainT2 HASTE BH.dicom.zip\n",
      "5 - Scout Expiration BH.dicom.zip\n",
      "6 - Sag Spine T2 HASTE BH.dicom.zip\n",
      "7 - SAG BrainT2 HASTE BH.dicom.zip\n",
      "8 - Sag Spine T2 HASTE BH.dicom.zip\n",
      "9 - COR Spine T2 HASTE BH.dicom.zip\n"
     ]
    }
   ],
   "source": [
    "for acquisition in exam_000006_acquisition:\n",
    "    for file in acquisition.files:\n",
    "        if file.type == 'dicom':\n",
    "            print(file.name)"
   ]
  },
  {
   "cell_type": "code",
   "execution_count": 12,
   "id": "d647732c-fd88-41fa-9dac-ae2bed2388cb",
   "metadata": {},
   "outputs": [],
   "source": [
    "group = exam_000006_session.parents.group"
   ]
  },
  {
   "cell_type": "code",
   "execution_count": 13,
   "id": "2b0c7ba6-33ca-4805-ab60-534521d084c5",
   "metadata": {},
   "outputs": [
    {
     "data": {
      "text/plain": [
       "'fetal'"
      ]
     },
     "execution_count": 13,
     "metadata": {},
     "output_type": "execute_result"
    }
   ],
   "source": [
    "group"
   ]
  },
  {
   "cell_type": "code",
   "execution_count": null,
   "id": "a8575239-03ed-440d-aee2-a35f2fb188fa",
   "metadata": {},
   "outputs": [],
   "source": []
  }
 ],
 "metadata": {
  "kernelspec": {
   "display_name": "Python 3",
   "language": "python",
   "name": "python3"
  },
  "language_info": {
   "codemirror_mode": {
    "name": "ipython",
    "version": 3
   },
   "file_extension": ".py",
   "mimetype": "text/x-python",
   "name": "python",
   "nbconvert_exporter": "python",
   "pygments_lexer": "ipython3",
   "version": "3.10.2"
  }
 },
 "nbformat": 4,
 "nbformat_minor": 5
}
