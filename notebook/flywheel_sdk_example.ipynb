{
 "cells": [
  {
   "cell_type": "code",
   "execution_count": 1,
   "id": "b6104c83-1abe-4c7e-ae3d-b7e1a69753e9",
   "metadata": {},
   "outputs": [],
   "source": [
    "import flywheel\n",
    "import flywheel_gear_toolkit as gt\n",
    "from pprint import pprint"
   ]
  },
  {
   "cell_type": "code",
   "execution_count": 35,
   "id": "d7352f2a-f44f-4385-bcc8-6cf2bf273886",
   "metadata": {},
   "outputs": [],
   "source": [
    "fw = flywheel.Client()"
   ]
  },
  {
   "cell_type": "code",
   "execution_count": 3,
   "id": "28b0ff07-110e-4a85-a626-85bb3ed1063c",
   "metadata": {},
   "outputs": [
    {
     "name": "stdout",
     "output_type": "stream",
     "text": [
      "Firstname: Xuchu \n",
      "Lastname: Liu \n",
      "Email: Xuchu_Liu@rush.edu\n"
     ]
    }
   ],
   "source": [
    "user_info = fw.get_current_user()\n",
    "print(f\"Firstname: {user_info.firstname} \\n\"\n",
    "      f\"Lastname: {user_info.lastname} \\n\"\n",
    "      f\"Email: {user_info.email}\")"
   ]
  },
  {
   "cell_type": "code",
   "execution_count": 11,
   "id": "b496d965-016b-47e2-966f-dcfa411fb490",
   "metadata": {},
   "outputs": [
    {
     "name": "stdout",
     "output_type": "stream",
     "text": [
      "2004-08-17 10_58_48\n",
      "07-03-08 11_43 AM\n",
      "07-12-04 12_34 PM\n",
      "09-18-07 9_27 AM\n",
      "09-01-05 9_18 AM\n",
      "OHIF_6\n",
      "OHIF_11\n",
      "exam_000007\n"
     ]
    }
   ],
   "source": [
    "project_sessions = fw.sessions()\n",
    "for session in project_sessions:\n",
    "    print(session.label)"
   ]
  },
  {
   "cell_type": "code",
   "execution_count": 24,
   "id": "7ea1190d-03e8-4848-846b-0200997bbccc",
   "metadata": {},
   "outputs": [
    {
     "name": "stdout",
     "output_type": "stream",
     "text": [
      "61f008e591188d92013e6c34\n"
     ]
    }
   ],
   "source": [
    "my_session_label = 'OHIF_6'\n",
    "my_session_id = fw.sessions.find(f'label={my_session_label}')[0].id\n",
    "print(my_session_id)"
   ]
  },
  {
   "cell_type": "code",
   "execution_count": 20,
   "id": "1a4940d5-0c04-4cb8-9ea8-4887d428bb3f",
   "metadata": {},
   "outputs": [],
   "source": [
    "my_session = fw.get_session(my_session_id)"
   ]
  },
  {
   "cell_type": "code",
   "execution_count": 43,
   "id": "d647732c-fd88-41fa-9dac-ae2bed2388cb",
   "metadata": {},
   "outputs": [],
   "source": [
    "my_group = my_session.parents.group"
   ]
  },
  {
   "cell_type": "code",
   "execution_count": 47,
   "id": "5b40e981",
   "metadata": {},
   "outputs": [],
   "source": [
    "my_metadata = my_session.info\n",
    "ohif_metadata = my_metadata['ohifViewer']"
   ]
  },
  {
   "cell_type": "code",
   "execution_count": 48,
   "id": "956a0b10-41cf-4636-8bbf-2345f5eb084e",
   "metadata": {},
   "outputs": [
    {
     "name": "stdout",
     "output_type": "stream",
     "text": [
      "[]\n"
     ]
    }
   ],
   "source": [
    "pprint(ohif_metadata['measurements']['Length'])"
   ]
  },
  {
   "cell_type": "code",
   "execution_count": 54,
   "id": "aada7ad3",
   "metadata": {},
   "outputs": [],
   "source": [
    "Pons_Length = {}\n",
    "Pons_Length['description'] = 'A-P Diameter of Pons'"
   ]
  },
  {
   "cell_type": "code",
   "execution_count": 55,
   "id": "187c614a",
   "metadata": {},
   "outputs": [],
   "source": [
    "Vermis_Length = {}\n",
    "Vermis_Length['description'] = 'A-P Diameter of Vermis'"
   ]
  },
  {
   "cell_type": "code",
   "execution_count": 56,
   "id": "ee85cc50",
   "metadata": {},
   "outputs": [],
   "source": [
    "HVermis_Length = {}\n",
    "HVermis_Length['description'] = 'Height of Vermis'"
   ]
  },
  {
   "cell_type": "code",
   "execution_count": 57,
   "id": "313fbd9e",
   "metadata": {},
   "outputs": [],
   "source": [
    "Fronto_Length = {}\n",
    "Fronto_Length['description'] = 'Fronto-Occpitial'"
   ]
  },
  {
   "cell_type": "code",
   "execution_count": 58,
   "id": "c11124a3",
   "metadata": {},
   "outputs": [],
   "source": [
    "ohif_metadata['measurements']['Length'].append(Pons_Length)\n",
    "ohif_metadata['measurements']['Length'].append(Vermis_Length)\n",
    "ohif_metadata['measurements']['Length'].append(HVermis_Length)\n",
    "ohif_metadata['measurements']['Length'].append(Fronto_Length)\n",
    "# ohif_metadata['measurements']['Length'] = [] # delete"
   ]
  },
  {
   "cell_type": "code",
   "execution_count": 59,
   "id": "e808515e-9ec9-4228-9fea-cfaf9590ef97",
   "metadata": {},
   "outputs": [],
   "source": [
    "my_session.update_info(my_metadata)"
   ]
  },
  {
   "cell_type": "code",
   "execution_count": 25,
   "id": "288b7c58-2a66-4aef-bb84-c1a1f89cf493",
   "metadata": {},
   "outputs": [
    {
     "name": "stdout",
     "output_type": "stream",
     "text": [
      "1 - Scout Expiration BH.dicom.zip\n",
      "10 - COR Body TRUEFIS BH.dicom.zip\n",
      "11 - AXIAL BRAIN TRUEFIS BH4MM.dicom.zip\n",
      "12 - AXIAL BRAIN TRUEFIS BH4MM.dicom\n",
      "13 - AXIAL BRAIN TRUEFIS BH4MM.dicom.zip\n",
      "14 - Scout Expiration BH.dicom.zip\n",
      "15 - AX BodyTRUEFIS  BH.dicom.zip\n",
      "16 - COR BodyTRUEFIS BH.dicom.zip\n",
      "17 - COR Body TRUEFIS BH.dicom.zip\n",
      "18 - COR BodyTRUEFIS BH.dicom.zip\n",
      "2 - SAG BrainT2 HASTE BH.dicom.zip\n",
      "3 - AX BrainT2 HASTE BH.dicom.zip\n",
      "4 - COR BrainT2 HASTE BH.dicom.zip\n",
      "5 - Scout Expiration BH.dicom.zip\n",
      "6 - Sag Spine T2 HASTE BH.dicom.zip\n",
      "7 - SAG BrainT2 HASTE BH.dicom.zip\n",
      "8 - Sag Spine T2 HASTE BH.dicom.zip\n",
      "9 - COR Spine T2 HASTE BH.dicom.zip\n"
     ]
    }
   ],
   "source": [
    "my_acquisition = my_session.acquisitions()\n",
    "for acquisition in my_acquisition:\n",
    "    for file in acquisition.files[:1]:\n",
    "        if file.type == 'dicom':\n",
    "            print(file.name)"
   ]
  },
  {
   "cell_type": "code",
   "execution_count": 42,
   "id": "10b6e29b",
   "metadata": {},
   "outputs": [
    {
     "data": {
      "text/plain": [
       "{'config': {'ip': '127.0.0.1',\n",
       "  'stdin': '9003',\n",
       "  'control': '9001',\n",
       "  'hb': '9000',\n",
       "  'Session.signature_scheme': '\"hmac-sha256\"',\n",
       "  'Session.key': 'b\"10c03b03-bae0-4dfe-b1d1-9f04004cb388\"',\n",
       "  'shell': '9002',\n",
       "  'transport': '\"tcp\"',\n",
       "  'iopub': '9004'},\n",
       " 'inputs': {'f': {'base': 'file',\n",
       "   'hierarchy': {'id': 'aex', 'type': 'acquisition'},\n",
       "   'location': {'name': 'tmp-25430780eeTJ4mFqikO.json',\n",
       "    'path': '/tmp/tmp-25430780eeTJ4mFqikO.json'},\n",
       "   'object': {'classification': {'Intent': [], 'Measurement': []},\n",
       "    'info': {},\n",
       "    'measurements': [],\n",
       "    'mimetype': '',\n",
       "    'modality': '',\n",
       "    'size': 261,\n",
       "    'tags': [],\n",
       "    'type': ''}}},\n",
       " 'destination': {'id': 'aex', 'type': 'acquisition'}}"
      ]
     },
     "execution_count": 42,
     "metadata": {},
     "output_type": "execute_result"
    }
   ],
   "source": [
    "context = gt.GearToolkitContext()\n",
    "context.config_from_args([])"
   ]
  }
 ],
 "metadata": {
  "kernelspec": {
   "display_name": "Python 3",
   "language": "python",
   "name": "python3"
  },
  "language_info": {
   "codemirror_mode": {
    "name": "ipython",
    "version": 3
   },
   "file_extension": ".py",
   "mimetype": "text/x-python",
   "name": "python",
   "nbconvert_exporter": "python",
   "pygments_lexer": "ipython3",
   "version": "3.8.10"
  }
 },
 "nbformat": 4,
 "nbformat_minor": 5
}
